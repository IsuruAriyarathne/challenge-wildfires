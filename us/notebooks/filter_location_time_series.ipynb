{
 "cells": [
  {
   "cell_type": "code",
   "execution_count": 1,
   "id": "e32469f1",
   "metadata": {},
   "outputs": [],
   "source": [
    "%matplotlib inline\n",
    "import pandas as pd\n",
    "import numpy as np\n",
    "from IPython.core.interactiveshell import InteractiveShell\n",
    "import random\n",
    "InteractiveShell.ast_node_interactivity = \"all\"\n",
    "import os\n",
    "from datetime import datetime\n",
    "import matplotlib.pyplot as plt\n",
    "#import plotly.express as px\n",
    "import glob\n",
    "from tqdm import tqdm\n",
    "\n",
    "# Using plotly.express\n",
    "import plotly.express as px\n",
    "\n",
    "import numpy as np\n",
    "import pandas as pd\n",
    "from datetime import datetime, timedelta\n",
    "import matplotlib.pyplot as plt\n",
    "import sys\n",
    "sys.path.append(\"../\")\n",
    "\n",
    "import warnings\n",
    "warnings.filterwarnings('ignore')\n",
    "\n",
    "from kats.consts import TimeSeriesData"
   ]
  },
  {
   "cell_type": "code",
   "execution_count": 2,
   "id": "3dcc6636",
   "metadata": {},
   "outputs": [
    {
     "data": {
      "text/plain": [
       "(1107520, 10)"
      ]
     },
     "execution_count": 2,
     "metadata": {},
     "output_type": "execute_result"
    },
    {
     "data": {
      "text/html": [
       "<div>\n",
       "<style scoped>\n",
       "    .dataframe tbody tr th:only-of-type {\n",
       "        vertical-align: middle;\n",
       "    }\n",
       "\n",
       "    .dataframe tbody tr th {\n",
       "        vertical-align: top;\n",
       "    }\n",
       "\n",
       "    .dataframe thead th {\n",
       "        text-align: right;\n",
       "    }\n",
       "</style>\n",
       "<table border=\"1\" class=\"dataframe\">\n",
       "  <thead>\n",
       "    <tr style=\"text-align: right;\">\n",
       "      <th></th>\n",
       "      <th>latitude</th>\n",
       "      <th>longitude</th>\n",
       "      <th>time</th>\n",
       "      <th>fire_count</th>\n",
       "      <th>confidence</th>\n",
       "      <th>frp</th>\n",
       "      <th>est_fire_area</th>\n",
       "      <th>est_brightness</th>\n",
       "      <th>loc_count</th>\n",
       "      <th>ranking</th>\n",
       "    </tr>\n",
       "  </thead>\n",
       "  <tbody>\n",
       "    <tr>\n",
       "      <th>0</th>\n",
       "      <td>-12.5</td>\n",
       "      <td>141.9</td>\n",
       "      <td>2006-09-20</td>\n",
       "      <td>2</td>\n",
       "      <td>40</td>\n",
       "      <td>13.4</td>\n",
       "      <td>2.5</td>\n",
       "      <td>296.6</td>\n",
       "      <td>566</td>\n",
       "      <td>0.216150</td>\n",
       "    </tr>\n",
       "    <tr>\n",
       "      <th>1</th>\n",
       "      <td>-12.5</td>\n",
       "      <td>141.9</td>\n",
       "      <td>2006-08-18</td>\n",
       "      <td>3</td>\n",
       "      <td>70</td>\n",
       "      <td>35.3</td>\n",
       "      <td>2.3</td>\n",
       "      <td>306.8</td>\n",
       "      <td>566</td>\n",
       "      <td>0.335000</td>\n",
       "    </tr>\n",
       "    <tr>\n",
       "      <th>2</th>\n",
       "      <td>-12.5</td>\n",
       "      <td>141.9</td>\n",
       "      <td>2006-08-23</td>\n",
       "      <td>8</td>\n",
       "      <td>57</td>\n",
       "      <td>19.7</td>\n",
       "      <td>1.2</td>\n",
       "      <td>314.1</td>\n",
       "      <td>566</td>\n",
       "      <td>0.267074</td>\n",
       "    </tr>\n",
       "    <tr>\n",
       "      <th>3</th>\n",
       "      <td>-12.5</td>\n",
       "      <td>141.9</td>\n",
       "      <td>2006-08-24</td>\n",
       "      <td>2</td>\n",
       "      <td>74</td>\n",
       "      <td>22.4</td>\n",
       "      <td>1.7</td>\n",
       "      <td>311.7</td>\n",
       "      <td>566</td>\n",
       "      <td>0.336066</td>\n",
       "    </tr>\n",
       "    <tr>\n",
       "      <th>4</th>\n",
       "      <td>-12.5</td>\n",
       "      <td>141.9</td>\n",
       "      <td>2006-08-27</td>\n",
       "      <td>4</td>\n",
       "      <td>84</td>\n",
       "      <td>41.0</td>\n",
       "      <td>1.7</td>\n",
       "      <td>319.9</td>\n",
       "      <td>566</td>\n",
       "      <td>0.380469</td>\n",
       "    </tr>\n",
       "  </tbody>\n",
       "</table>\n",
       "</div>"
      ],
      "text/plain": [
       "   latitude  longitude       time  fire_count  confidence   frp  \\\n",
       "0     -12.5      141.9 2006-09-20           2          40  13.4   \n",
       "1     -12.5      141.9 2006-08-18           3          70  35.3   \n",
       "2     -12.5      141.9 2006-08-23           8          57  19.7   \n",
       "3     -12.5      141.9 2006-08-24           2          74  22.4   \n",
       "4     -12.5      141.9 2006-08-27           4          84  41.0   \n",
       "\n",
       "   est_fire_area  est_brightness  loc_count   ranking  \n",
       "0            2.5           296.6        566  0.216150  \n",
       "1            2.3           306.8        566  0.335000  \n",
       "2            1.2           314.1        566  0.267074  \n",
       "3            1.7           311.7        566  0.336066  \n",
       "4            1.7           319.9        566  0.380469  "
      ]
     },
     "execution_count": 2,
     "metadata": {},
     "output_type": "execute_result"
    }
   ],
   "source": [
    "url = '../data/australia_prepared.csv'\n",
    "aus_fires = pd.read_csv(url, parse_dates=['time'])\n",
    "aus_fires.shape\n",
    "aus_fires.head()"
   ]
  },
  {
   "cell_type": "code",
   "execution_count": null,
   "id": "efb7e072",
   "metadata": {},
   "outputs": [],
   "source": []
  },
  {
   "cell_type": "code",
   "execution_count": 3,
   "id": "d9074c6a",
   "metadata": {},
   "outputs": [
    {
     "data": {
      "text/html": [
       "<div>\n",
       "<style scoped>\n",
       "    .dataframe tbody tr th:only-of-type {\n",
       "        vertical-align: middle;\n",
       "    }\n",
       "\n",
       "    .dataframe tbody tr th {\n",
       "        vertical-align: top;\n",
       "    }\n",
       "\n",
       "    .dataframe thead th {\n",
       "        text-align: right;\n",
       "    }\n",
       "</style>\n",
       "<table border=\"1\" class=\"dataframe\">\n",
       "  <thead>\n",
       "    <tr style=\"text-align: right;\">\n",
       "      <th></th>\n",
       "      <th>latitude</th>\n",
       "      <th>longitude</th>\n",
       "      <th>time</th>\n",
       "      <th>fire_count</th>\n",
       "      <th>confidence</th>\n",
       "      <th>frp</th>\n",
       "      <th>est_fire_area</th>\n",
       "      <th>est_brightness</th>\n",
       "      <th>loc_count</th>\n",
       "      <th>ranking</th>\n",
       "    </tr>\n",
       "  </thead>\n",
       "  <tbody>\n",
       "    <tr>\n",
       "      <th>0</th>\n",
       "      <td>-12.5</td>\n",
       "      <td>141.9</td>\n",
       "      <td>2006-09-20</td>\n",
       "      <td>2</td>\n",
       "      <td>40</td>\n",
       "      <td>13.4</td>\n",
       "      <td>2.5</td>\n",
       "      <td>296.6</td>\n",
       "      <td>566</td>\n",
       "      <td>0.216150</td>\n",
       "    </tr>\n",
       "    <tr>\n",
       "      <th>381</th>\n",
       "      <td>-12.5</td>\n",
       "      <td>141.9</td>\n",
       "      <td>2016-08-10</td>\n",
       "      <td>6</td>\n",
       "      <td>84</td>\n",
       "      <td>20.4</td>\n",
       "      <td>1.3</td>\n",
       "      <td>306.4</td>\n",
       "      <td>566</td>\n",
       "      <td>0.374003</td>\n",
       "    </tr>\n",
       "    <tr>\n",
       "      <th>375</th>\n",
       "      <td>-12.5</td>\n",
       "      <td>141.9</td>\n",
       "      <td>2012-08-09</td>\n",
       "      <td>2</td>\n",
       "      <td>43</td>\n",
       "      <td>10.1</td>\n",
       "      <td>1.0</td>\n",
       "      <td>312.8</td>\n",
       "      <td>566</td>\n",
       "      <td>0.196687</td>\n",
       "    </tr>\n",
       "    <tr>\n",
       "      <th>376</th>\n",
       "      <td>-12.5</td>\n",
       "      <td>141.9</td>\n",
       "      <td>2010-09-02</td>\n",
       "      <td>1</td>\n",
       "      <td>68</td>\n",
       "      <td>58.0</td>\n",
       "      <td>5.4</td>\n",
       "      <td>305.4</td>\n",
       "      <td>566</td>\n",
       "      <td>0.389851</td>\n",
       "    </tr>\n",
       "    <tr>\n",
       "      <th>377</th>\n",
       "      <td>-12.5</td>\n",
       "      <td>141.9</td>\n",
       "      <td>2010-09-06</td>\n",
       "      <td>1</td>\n",
       "      <td>98</td>\n",
       "      <td>27.1</td>\n",
       "      <td>1.8</td>\n",
       "      <td>305.6</td>\n",
       "      <td>566</td>\n",
       "      <td>0.432853</td>\n",
       "    </tr>\n",
       "    <tr>\n",
       "      <th>...</th>\n",
       "      <td>...</td>\n",
       "      <td>...</td>\n",
       "      <td>...</td>\n",
       "      <td>...</td>\n",
       "      <td>...</td>\n",
       "      <td>...</td>\n",
       "      <td>...</td>\n",
       "      <td>...</td>\n",
       "      <td>...</td>\n",
       "      <td>...</td>\n",
       "    </tr>\n",
       "    <tr>\n",
       "      <th>1104680</th>\n",
       "      <td>-19.8</td>\n",
       "      <td>138.2</td>\n",
       "      <td>2011-10-30</td>\n",
       "      <td>16</td>\n",
       "      <td>80</td>\n",
       "      <td>57.2</td>\n",
       "      <td>1.2</td>\n",
       "      <td>328.0</td>\n",
       "      <td>1</td>\n",
       "      <td>0.374300</td>\n",
       "    </tr>\n",
       "    <tr>\n",
       "      <th>1104681</th>\n",
       "      <td>-19.8</td>\n",
       "      <td>122.1</td>\n",
       "      <td>2012-11-08</td>\n",
       "      <td>26</td>\n",
       "      <td>94</td>\n",
       "      <td>299.6</td>\n",
       "      <td>1.2</td>\n",
       "      <td>356.4</td>\n",
       "      <td>1</td>\n",
       "      <td>0.461978</td>\n",
       "    </tr>\n",
       "    <tr>\n",
       "      <th>1104682</th>\n",
       "      <td>-21.3</td>\n",
       "      <td>115.7</td>\n",
       "      <td>2003-07-20</td>\n",
       "      <td>1</td>\n",
       "      <td>79</td>\n",
       "      <td>201.6</td>\n",
       "      <td>7.8</td>\n",
       "      <td>321.2</td>\n",
       "      <td>1</td>\n",
       "      <td>0.493140</td>\n",
       "    </tr>\n",
       "    <tr>\n",
       "      <th>1104683</th>\n",
       "      <td>-18.5</td>\n",
       "      <td>135.7</td>\n",
       "      <td>2004-12-06</td>\n",
       "      <td>1</td>\n",
       "      <td>77</td>\n",
       "      <td>34.9</td>\n",
       "      <td>4.8</td>\n",
       "      <td>303.1</td>\n",
       "      <td>1</td>\n",
       "      <td>0.411857</td>\n",
       "    </tr>\n",
       "    <tr>\n",
       "      <th>1107519</th>\n",
       "      <td>-32.8</td>\n",
       "      <td>143.4</td>\n",
       "      <td>2012-03-31</td>\n",
       "      <td>2</td>\n",
       "      <td>72</td>\n",
       "      <td>21.8</td>\n",
       "      <td>1.9</td>\n",
       "      <td>310.8</td>\n",
       "      <td>1</td>\n",
       "      <td>0.332193</td>\n",
       "    </tr>\n",
       "  </tbody>\n",
       "</table>\n",
       "<p>1107520 rows × 10 columns</p>\n",
       "</div>"
      ],
      "text/plain": [
       "         latitude  longitude       time  fire_count  confidence    frp  \\\n",
       "0           -12.5      141.9 2006-09-20           2          40   13.4   \n",
       "381         -12.5      141.9 2016-08-10           6          84   20.4   \n",
       "375         -12.5      141.9 2012-08-09           2          43   10.1   \n",
       "376         -12.5      141.9 2010-09-02           1          68   58.0   \n",
       "377         -12.5      141.9 2010-09-06           1          98   27.1   \n",
       "...           ...        ...        ...         ...         ...    ...   \n",
       "1104680     -19.8      138.2 2011-10-30          16          80   57.2   \n",
       "1104681     -19.8      122.1 2012-11-08          26          94  299.6   \n",
       "1104682     -21.3      115.7 2003-07-20           1          79  201.6   \n",
       "1104683     -18.5      135.7 2004-12-06           1          77   34.9   \n",
       "1107519     -32.8      143.4 2012-03-31           2          72   21.8   \n",
       "\n",
       "         est_fire_area  est_brightness  loc_count   ranking  \n",
       "0                  2.5           296.6        566  0.216150  \n",
       "381                1.3           306.4        566  0.374003  \n",
       "375                1.0           312.8        566  0.196687  \n",
       "376                5.4           305.4        566  0.389851  \n",
       "377                1.8           305.6        566  0.432853  \n",
       "...                ...             ...        ...       ...  \n",
       "1104680            1.2           328.0          1  0.374300  \n",
       "1104681            1.2           356.4          1  0.461978  \n",
       "1104682            7.8           321.2          1  0.493140  \n",
       "1104683            4.8           303.1          1  0.411857  \n",
       "1107519            1.9           310.8          1  0.332193  \n",
       "\n",
       "[1107520 rows x 10 columns]"
      ]
     },
     "execution_count": 3,
     "metadata": {},
     "output_type": "execute_result"
    }
   ],
   "source": [
    "aus_fires.sort_values(by=['loc_count'], ascending=False)"
   ]
  },
  {
   "cell_type": "code",
   "execution_count": null,
   "id": "deedee8d",
   "metadata": {},
   "outputs": [],
   "source": []
  },
  {
   "cell_type": "code",
   "execution_count": 4,
   "id": "b21b99fd",
   "metadata": {},
   "outputs": [],
   "source": [
    "def filterLocation(aus_fires,latitude,longitude):\n",
    "    filtered = aus_fires[(aus_fires.latitude == latitude)&(aus_fires.longitude == longitude)]\n",
    "    return filtered"
   ]
  },
  {
   "cell_type": "code",
   "execution_count": 5,
   "id": "ac5b3967",
   "metadata": {},
   "outputs": [],
   "source": [
    "lat = -12.5\n",
    "lng = 141.9\n",
    "filtered = filterLocation(aus_fires,lat,lng)"
   ]
  },
  {
   "cell_type": "code",
   "execution_count": 6,
   "id": "6df56419",
   "metadata": {},
   "outputs": [
    {
     "data": {
      "text/html": [
       "<div>\n",
       "<style scoped>\n",
       "    .dataframe tbody tr th:only-of-type {\n",
       "        vertical-align: middle;\n",
       "    }\n",
       "\n",
       "    .dataframe tbody tr th {\n",
       "        vertical-align: top;\n",
       "    }\n",
       "\n",
       "    .dataframe thead th {\n",
       "        text-align: right;\n",
       "    }\n",
       "</style>\n",
       "<table border=\"1\" class=\"dataframe\">\n",
       "  <thead>\n",
       "    <tr style=\"text-align: right;\">\n",
       "      <th></th>\n",
       "      <th>latitude</th>\n",
       "      <th>longitude</th>\n",
       "      <th>time</th>\n",
       "      <th>fire_count</th>\n",
       "      <th>confidence</th>\n",
       "      <th>frp</th>\n",
       "      <th>est_fire_area</th>\n",
       "      <th>est_brightness</th>\n",
       "      <th>loc_count</th>\n",
       "      <th>ranking</th>\n",
       "    </tr>\n",
       "  </thead>\n",
       "  <tbody>\n",
       "    <tr>\n",
       "      <th>0</th>\n",
       "      <td>-12.5</td>\n",
       "      <td>141.9</td>\n",
       "      <td>2006-09-20</td>\n",
       "      <td>2</td>\n",
       "      <td>40</td>\n",
       "      <td>13.4</td>\n",
       "      <td>2.5</td>\n",
       "      <td>296.6</td>\n",
       "      <td>566</td>\n",
       "      <td>0.216150</td>\n",
       "    </tr>\n",
       "    <tr>\n",
       "      <th>1</th>\n",
       "      <td>-12.5</td>\n",
       "      <td>141.9</td>\n",
       "      <td>2006-08-18</td>\n",
       "      <td>3</td>\n",
       "      <td>70</td>\n",
       "      <td>35.3</td>\n",
       "      <td>2.3</td>\n",
       "      <td>306.8</td>\n",
       "      <td>566</td>\n",
       "      <td>0.335000</td>\n",
       "    </tr>\n",
       "    <tr>\n",
       "      <th>2</th>\n",
       "      <td>-12.5</td>\n",
       "      <td>141.9</td>\n",
       "      <td>2006-08-23</td>\n",
       "      <td>8</td>\n",
       "      <td>57</td>\n",
       "      <td>19.7</td>\n",
       "      <td>1.2</td>\n",
       "      <td>314.1</td>\n",
       "      <td>566</td>\n",
       "      <td>0.267074</td>\n",
       "    </tr>\n",
       "    <tr>\n",
       "      <th>3</th>\n",
       "      <td>-12.5</td>\n",
       "      <td>141.9</td>\n",
       "      <td>2006-08-24</td>\n",
       "      <td>2</td>\n",
       "      <td>74</td>\n",
       "      <td>22.4</td>\n",
       "      <td>1.7</td>\n",
       "      <td>311.7</td>\n",
       "      <td>566</td>\n",
       "      <td>0.336066</td>\n",
       "    </tr>\n",
       "    <tr>\n",
       "      <th>4</th>\n",
       "      <td>-12.5</td>\n",
       "      <td>141.9</td>\n",
       "      <td>2006-08-27</td>\n",
       "      <td>4</td>\n",
       "      <td>84</td>\n",
       "      <td>41.0</td>\n",
       "      <td>1.7</td>\n",
       "      <td>319.9</td>\n",
       "      <td>566</td>\n",
       "      <td>0.380469</td>\n",
       "    </tr>\n",
       "    <tr>\n",
       "      <th>5</th>\n",
       "      <td>-12.5</td>\n",
       "      <td>141.9</td>\n",
       "      <td>2006-09-08</td>\n",
       "      <td>2</td>\n",
       "      <td>78</td>\n",
       "      <td>39.6</td>\n",
       "      <td>1.2</td>\n",
       "      <td>321.5</td>\n",
       "      <td>566</td>\n",
       "      <td>0.342761</td>\n",
       "    </tr>\n",
       "    <tr>\n",
       "      <th>6</th>\n",
       "      <td>-12.5</td>\n",
       "      <td>141.9</td>\n",
       "      <td>2006-09-18</td>\n",
       "      <td>3</td>\n",
       "      <td>75</td>\n",
       "      <td>18.9</td>\n",
       "      <td>2.1</td>\n",
       "      <td>299.9</td>\n",
       "      <td>566</td>\n",
       "      <td>0.349772</td>\n",
       "    </tr>\n",
       "    <tr>\n",
       "      <th>7</th>\n",
       "      <td>-12.5</td>\n",
       "      <td>141.9</td>\n",
       "      <td>2006-09-27</td>\n",
       "      <td>1</td>\n",
       "      <td>53</td>\n",
       "      <td>17.2</td>\n",
       "      <td>3.8</td>\n",
       "      <td>296.8</td>\n",
       "      <td>566</td>\n",
       "      <td>0.293879</td>\n",
       "    </tr>\n",
       "    <tr>\n",
       "      <th>8</th>\n",
       "      <td>-12.5</td>\n",
       "      <td>141.9</td>\n",
       "      <td>2006-09-28</td>\n",
       "      <td>2</td>\n",
       "      <td>68</td>\n",
       "      <td>10.0</td>\n",
       "      <td>1.7</td>\n",
       "      <td>299.1</td>\n",
       "      <td>566</td>\n",
       "      <td>0.311263</td>\n",
       "    </tr>\n",
       "    <tr>\n",
       "      <th>9</th>\n",
       "      <td>-12.5</td>\n",
       "      <td>141.9</td>\n",
       "      <td>2006-09-30</td>\n",
       "      <td>5</td>\n",
       "      <td>71</td>\n",
       "      <td>27.6</td>\n",
       "      <td>2.0</td>\n",
       "      <td>319.4</td>\n",
       "      <td>566</td>\n",
       "      <td>0.335452</td>\n",
       "    </tr>\n",
       "    <tr>\n",
       "      <th>10</th>\n",
       "      <td>-12.5</td>\n",
       "      <td>141.9</td>\n",
       "      <td>2006-10-04</td>\n",
       "      <td>2</td>\n",
       "      <td>60</td>\n",
       "      <td>11.4</td>\n",
       "      <td>1.9</td>\n",
       "      <td>297.3</td>\n",
       "      <td>566</td>\n",
       "      <td>0.283521</td>\n",
       "    </tr>\n",
       "    <tr>\n",
       "      <th>11</th>\n",
       "      <td>-12.5</td>\n",
       "      <td>141.9</td>\n",
       "      <td>2006-10-05</td>\n",
       "      <td>1</td>\n",
       "      <td>46</td>\n",
       "      <td>13.9</td>\n",
       "      <td>2.2</td>\n",
       "      <td>309.8</td>\n",
       "      <td>566</td>\n",
       "      <td>0.232332</td>\n",
       "    </tr>\n",
       "    <tr>\n",
       "      <th>12</th>\n",
       "      <td>-12.5</td>\n",
       "      <td>141.9</td>\n",
       "      <td>2006-10-10</td>\n",
       "      <td>1</td>\n",
       "      <td>85</td>\n",
       "      <td>90.0</td>\n",
       "      <td>7.0</td>\n",
       "      <td>302.4</td>\n",
       "      <td>566</td>\n",
       "      <td>0.493255</td>\n",
       "    </tr>\n",
       "    <tr>\n",
       "      <th>13</th>\n",
       "      <td>-12.5</td>\n",
       "      <td>141.9</td>\n",
       "      <td>2006-10-13</td>\n",
       "      <td>1</td>\n",
       "      <td>66</td>\n",
       "      <td>22.6</td>\n",
       "      <td>3.8</td>\n",
       "      <td>298.5</td>\n",
       "      <td>566</td>\n",
       "      <td>0.346228</td>\n",
       "    </tr>\n",
       "    <tr>\n",
       "      <th>14</th>\n",
       "      <td>-12.5</td>\n",
       "      <td>141.9</td>\n",
       "      <td>2006-10-14</td>\n",
       "      <td>2</td>\n",
       "      <td>82</td>\n",
       "      <td>61.5</td>\n",
       "      <td>1.7</td>\n",
       "      <td>322.6</td>\n",
       "      <td>566</td>\n",
       "      <td>0.370595</td>\n",
       "    </tr>\n",
       "    <tr>\n",
       "      <th>15</th>\n",
       "      <td>-12.5</td>\n",
       "      <td>141.9</td>\n",
       "      <td>2006-10-16</td>\n",
       "      <td>9</td>\n",
       "      <td>78</td>\n",
       "      <td>31.8</td>\n",
       "      <td>2.0</td>\n",
       "      <td>311.0</td>\n",
       "      <td>566</td>\n",
       "      <td>0.370124</td>\n",
       "    </tr>\n",
       "    <tr>\n",
       "      <th>16</th>\n",
       "      <td>-12.5</td>\n",
       "      <td>141.9</td>\n",
       "      <td>2006-10-17</td>\n",
       "      <td>1</td>\n",
       "      <td>81</td>\n",
       "      <td>22.9</td>\n",
       "      <td>1.7</td>\n",
       "      <td>326.0</td>\n",
       "      <td>566</td>\n",
       "      <td>0.362498</td>\n",
       "    </tr>\n",
       "    <tr>\n",
       "      <th>17</th>\n",
       "      <td>-12.5</td>\n",
       "      <td>141.9</td>\n",
       "      <td>2006-10-18</td>\n",
       "      <td>3</td>\n",
       "      <td>61</td>\n",
       "      <td>5.2</td>\n",
       "      <td>1.2</td>\n",
       "      <td>299.1</td>\n",
       "      <td>566</td>\n",
       "      <td>0.274136</td>\n",
       "    </tr>\n",
       "    <tr>\n",
       "      <th>18</th>\n",
       "      <td>-12.5</td>\n",
       "      <td>141.9</td>\n",
       "      <td>2006-10-19</td>\n",
       "      <td>3</td>\n",
       "      <td>67</td>\n",
       "      <td>62.9</td>\n",
       "      <td>3.5</td>\n",
       "      <td>315.2</td>\n",
       "      <td>566</td>\n",
       "      <td>0.349785</td>\n",
       "    </tr>\n",
       "    <tr>\n",
       "      <th>19</th>\n",
       "      <td>-12.5</td>\n",
       "      <td>141.9</td>\n",
       "      <td>2006-08-22</td>\n",
       "      <td>2</td>\n",
       "      <td>63</td>\n",
       "      <td>7.1</td>\n",
       "      <td>1.0</td>\n",
       "      <td>298.0</td>\n",
       "      <td>566</td>\n",
       "      <td>0.276493</td>\n",
       "    </tr>\n",
       "    <tr>\n",
       "      <th>20</th>\n",
       "      <td>-12.5</td>\n",
       "      <td>141.9</td>\n",
       "      <td>2006-08-17</td>\n",
       "      <td>1</td>\n",
       "      <td>60</td>\n",
       "      <td>7.7</td>\n",
       "      <td>1.3</td>\n",
       "      <td>297.8</td>\n",
       "      <td>566</td>\n",
       "      <td>0.269181</td>\n",
       "    </tr>\n",
       "    <tr>\n",
       "      <th>21</th>\n",
       "      <td>-12.5</td>\n",
       "      <td>141.9</td>\n",
       "      <td>2006-10-21</td>\n",
       "      <td>1</td>\n",
       "      <td>93</td>\n",
       "      <td>50.6</td>\n",
       "      <td>1.3</td>\n",
       "      <td>327.5</td>\n",
       "      <td>566</td>\n",
       "      <td>0.403956</td>\n",
       "    </tr>\n",
       "    <tr>\n",
       "      <th>22</th>\n",
       "      <td>-12.5</td>\n",
       "      <td>141.9</td>\n",
       "      <td>2006-08-16</td>\n",
       "      <td>1</td>\n",
       "      <td>44</td>\n",
       "      <td>29.1</td>\n",
       "      <td>5.3</td>\n",
       "      <td>305.1</td>\n",
       "      <td>566</td>\n",
       "      <td>0.289899</td>\n",
       "    </tr>\n",
       "    <tr>\n",
       "      <th>23</th>\n",
       "      <td>-12.5</td>\n",
       "      <td>141.9</td>\n",
       "      <td>2004-10-25</td>\n",
       "      <td>2</td>\n",
       "      <td>53</td>\n",
       "      <td>28.2</td>\n",
       "      <td>3.4</td>\n",
       "      <td>309.0</td>\n",
       "      <td>566</td>\n",
       "      <td>0.287857</td>\n",
       "    </tr>\n",
       "    <tr>\n",
       "      <th>24</th>\n",
       "      <td>-12.5</td>\n",
       "      <td>141.9</td>\n",
       "      <td>2004-10-27</td>\n",
       "      <td>1</td>\n",
       "      <td>50</td>\n",
       "      <td>17.1</td>\n",
       "      <td>1.7</td>\n",
       "      <td>317.3</td>\n",
       "      <td>566</td>\n",
       "      <td>0.238123</td>\n",
       "    </tr>\n",
       "  </tbody>\n",
       "</table>\n",
       "</div>"
      ],
      "text/plain": [
       "    latitude  longitude       time  fire_count  confidence   frp  \\\n",
       "0      -12.5      141.9 2006-09-20           2          40  13.4   \n",
       "1      -12.5      141.9 2006-08-18           3          70  35.3   \n",
       "2      -12.5      141.9 2006-08-23           8          57  19.7   \n",
       "3      -12.5      141.9 2006-08-24           2          74  22.4   \n",
       "4      -12.5      141.9 2006-08-27           4          84  41.0   \n",
       "5      -12.5      141.9 2006-09-08           2          78  39.6   \n",
       "6      -12.5      141.9 2006-09-18           3          75  18.9   \n",
       "7      -12.5      141.9 2006-09-27           1          53  17.2   \n",
       "8      -12.5      141.9 2006-09-28           2          68  10.0   \n",
       "9      -12.5      141.9 2006-09-30           5          71  27.6   \n",
       "10     -12.5      141.9 2006-10-04           2          60  11.4   \n",
       "11     -12.5      141.9 2006-10-05           1          46  13.9   \n",
       "12     -12.5      141.9 2006-10-10           1          85  90.0   \n",
       "13     -12.5      141.9 2006-10-13           1          66  22.6   \n",
       "14     -12.5      141.9 2006-10-14           2          82  61.5   \n",
       "15     -12.5      141.9 2006-10-16           9          78  31.8   \n",
       "16     -12.5      141.9 2006-10-17           1          81  22.9   \n",
       "17     -12.5      141.9 2006-10-18           3          61   5.2   \n",
       "18     -12.5      141.9 2006-10-19           3          67  62.9   \n",
       "19     -12.5      141.9 2006-08-22           2          63   7.1   \n",
       "20     -12.5      141.9 2006-08-17           1          60   7.7   \n",
       "21     -12.5      141.9 2006-10-21           1          93  50.6   \n",
       "22     -12.5      141.9 2006-08-16           1          44  29.1   \n",
       "23     -12.5      141.9 2004-10-25           2          53  28.2   \n",
       "24     -12.5      141.9 2004-10-27           1          50  17.1   \n",
       "\n",
       "    est_fire_area  est_brightness  loc_count   ranking  \n",
       "0             2.5           296.6        566  0.216150  \n",
       "1             2.3           306.8        566  0.335000  \n",
       "2             1.2           314.1        566  0.267074  \n",
       "3             1.7           311.7        566  0.336066  \n",
       "4             1.7           319.9        566  0.380469  \n",
       "5             1.2           321.5        566  0.342761  \n",
       "6             2.1           299.9        566  0.349772  \n",
       "7             3.8           296.8        566  0.293879  \n",
       "8             1.7           299.1        566  0.311263  \n",
       "9             2.0           319.4        566  0.335452  \n",
       "10            1.9           297.3        566  0.283521  \n",
       "11            2.2           309.8        566  0.232332  \n",
       "12            7.0           302.4        566  0.493255  \n",
       "13            3.8           298.5        566  0.346228  \n",
       "14            1.7           322.6        566  0.370595  \n",
       "15            2.0           311.0        566  0.370124  \n",
       "16            1.7           326.0        566  0.362498  \n",
       "17            1.2           299.1        566  0.274136  \n",
       "18            3.5           315.2        566  0.349785  \n",
       "19            1.0           298.0        566  0.276493  \n",
       "20            1.3           297.8        566  0.269181  \n",
       "21            1.3           327.5        566  0.403956  \n",
       "22            5.3           305.1        566  0.289899  \n",
       "23            3.4           309.0        566  0.287857  \n",
       "24            1.7           317.3        566  0.238123  "
      ]
     },
     "execution_count": 6,
     "metadata": {},
     "output_type": "execute_result"
    }
   ],
   "source": [
    "filtered.head(25)"
   ]
  },
  {
   "cell_type": "code",
   "execution_count": 28,
   "id": "e31be96a",
   "metadata": {},
   "outputs": [],
   "source": [
    "# TIME SERIES"
   ]
  },
  {
   "cell_type": "code",
   "execution_count": 11,
   "id": "77d9ec3d",
   "metadata": {},
   "outputs": [],
   "source": []
  },
  {
   "cell_type": "code",
   "execution_count": 35,
   "id": "8b17bb99",
   "metadata": {},
   "outputs": [],
   "source": [
    "aus_fires_ts = TimeSeriesData(filtered)"
   ]
  },
  {
   "cell_type": "code",
   "execution_count": 36,
   "id": "77110a0f",
   "metadata": {},
   "outputs": [
    {
     "name": "stdout",
     "output_type": "stream",
     "text": [
      "<class 'pandas.core.series.Series'>\n",
      "<class 'pandas.core.series.Series'>\n"
     ]
    }
   ],
   "source": [
    "print(type(aus_fires_ts.time))\n",
    "print(type(aus_fires_ts.value.ranking))"
   ]
  },
  {
   "cell_type": "code",
   "execution_count": 37,
   "id": "0e67d488",
   "metadata": {},
   "outputs": [],
   "source": [
    "aus_fires_ts = TimeSeriesData(time=filtered.time, value=filtered.ranking)"
   ]
  },
  {
   "cell_type": "code",
   "execution_count": 38,
   "id": "b2e95652",
   "metadata": {},
   "outputs": [
    {
     "data": {
      "image/png": "[encoded data removed]",
      "text/plain": [
       "<Figure size 720x432 with 1 Axes>"
      ]
     },
     "metadata": {},
     "output_type": "display_data"
    }
   ],
   "source": [
    "%matplotlib inline\n",
    "\n",
    "# Must pass the name of the value columns to plot\n",
    "aus_fires_ts.plot(cols=['ranking'])\n",
    "plt.show()"
   ]
  },
  {
   "cell_type": "code",
   "execution_count": 12,
   "id": "1619eeb0",
   "metadata": {},
   "outputs": [
    {
     "data": {
      "application/vnd.plotly.v1+json": {
       "config": {
        "plotlyServerURL": "https://plot.ly"
       },
       "data": [
        {
         "hovertemplate": "time=%{x}<br>ranking=%{y}<extra></extra>",
         "legendgroup": "",
         "line": {
          "color": "#636efa",
          "dash": "solid"
         },
         "marker": {
          "symbol": "circle"
         },
         "mode": "lines",
         "name": "",
         "orientation": "v",
         "showlegend": false,
         "type": "scatter",
         "x": [
          "2006-09-20T00:00:00",
          "2006-08-18T00:00:00",
          "2006-08-23T00:00:00",
          "2006-08-24T00:00:00",
          "2006-08-27T00:00:00",
          "2006-09-08T00:00:00",
          "2006-09-18T00:00:00",
          "2006-09-27T00:00:00",
          "2006-09-28T00:00:00",
          "2006-09-30T00:00:00",
          "2006-10-04T00:00:00",
          "2006-10-05T00:00:00",
          "2006-10-10T00:00:00",
          "2006-10-13T00:00:00",
          "2006-10-14T00:00:00",
          "2006-10-16T00:00:00",
          "2006-10-17T00:00:00",
          "2006-10-18T00:00:00",
          "2006-10-19T00:00:00",
          "2006-08-22T00:00:00",
          "2006-08-17T00:00:00",
          "2006-10-21T00:00:00",
          "2006-08-16T00:00:00",
          "2004-10-25T00:00:00",
          "2004-10-27T00:00:00",
          "2005-06-09T00:00:00",
          "2005-06-10T00:00:00",
          "2005-07-09T00:00:00",
          "2005-07-16T00:00:00",
          "2005-07-18T00:00:00",
          "2005-08-24T00:00:00",
          "2005-09-21T00:00:00",
          "2005-10-02T00:00:00",
          "2005-10-15T00:00:00",
          "2005-10-20T00:00:00",
          "2006-07-31T00:00:00",
          "2006-08-07T00:00:00",
          "2006-08-09T00:00:00",
          "2006-08-10T00:00:00",
          "2006-08-15T00:00:00",
          "2006-10-20T00:00:00",
          "2006-10-23T00:00:00",
          "2017-08-29T00:00:00",
          "2013-07-09T00:00:00",
          "2013-07-27T00:00:00",
          "2013-08-12T00:00:00",
          "2013-08-19T00:00:00",
          "2013-08-20T00:00:00",
          "2013-08-21T00:00:00",
          "2013-08-22T00:00:00",
          "2013-08-23T00:00:00",
          "2013-08-25T00:00:00",
          "2013-08-26T00:00:00",
          "2013-08-27T00:00:00",
          "2013-08-28T00:00:00",
          "2013-08-29T00:00:00",
          "2013-09-01T00:00:00",
          "2013-09-03T00:00:00",
          "2013-09-10T00:00:00",
          "2013-09-11T00:00:00",
          "2013-09-12T00:00:00",
          "2013-07-18T00:00:00",
          "2013-07-04T00:00:00",
          "2006-10-24T00:00:00",
          "2013-07-03T00:00:00",
          "2006-10-26T00:00:00",
          "2006-10-27T00:00:00",
          "2006-10-28T00:00:00",
          "2006-10-29T00:00:00",
          "2006-10-30T00:00:00",
          "2006-10-31T00:00:00",
          "2006-11-01T00:00:00",
          "2006-11-02T00:00:00",
          "2006-11-03T00:00:00",
          "2006-11-04T00:00:00",
          "2006-11-06T00:00:00",
          "2006-11-10T00:00:00",
          "2007-04-28T00:00:00",
          "2013-06-28T00:00:00",
          "2013-06-29T00:00:00",
          "2013-07-01T00:00:00",
          "2013-07-02T00:00:00",
          "2004-10-22T00:00:00",
          "2004-10-21T00:00:00",
          "2004-10-13T00:00:00",
          "2002-10-10T00:00:00",
          "2003-06-18T00:00:00",
          "2003-07-03T00:00:00",
          "2003-07-04T00:00:00",
          "2003-07-29T00:00:00",
          "2013-06-15T00:00:00",
          "2013-06-22T00:00:00",
          "2013-06-24T00:00:00",
          "2013-06-25T00:00:00",
          "2013-06-26T00:00:00",
          "2013-06-27T00:00:00",
          "2003-08-03T00:00:00",
          "2003-08-05T00:00:00",
          "2003-08-14T00:00:00",
          "2003-08-15T00:00:00",
          "2003-08-18T00:00:00",
          "2003-08-19T00:00:00",
          "2003-09-13T00:00:00",
          "2002-10-12T00:00:00",
          "2002-10-09T00:00:00",
          "2004-10-12T00:00:00",
          "2002-10-08T00:00:00",
          "2017-12-01T00:00:00",
          "2018-05-13T00:00:00",
          "2018-05-18T00:00:00",
          "2018-05-19T00:00:00",
          "2018-05-22T00:00:00",
          "2018-05-26T00:00:00",
          "2018-06-12T00:00:00",
          "2018-06-13T00:00:00",
          "2018-07-06T00:00:00",
          "2018-07-07T00:00:00",
          "2013-06-08T00:00:00",
          "2013-06-13T00:00:00",
          "2013-06-14T00:00:00",
          "2002-07-19T00:00:00",
          "2002-07-29T00:00:00",
          "2002-08-18T00:00:00",
          "2002-09-22T00:00:00",
          "2003-09-14T00:00:00",
          "2003-09-16T00:00:00",
          "2004-06-04T00:00:00",
          "2004-06-08T00:00:00",
          "2004-09-10T00:00:00",
          "2004-09-12T00:00:00",
          "2004-09-13T00:00:00",
          "2004-09-14T00:00:00",
          "2004-09-15T00:00:00",
          "2004-09-16T00:00:00",
          "2004-09-17T00:00:00",
          "2004-09-18T00:00:00",
          "2004-09-20T00:00:00",
          "2004-09-23T00:00:00",
          "2004-09-29T00:00:00",
          "2004-09-30T00:00:00",
          "2004-10-01T00:00:00",
          "2004-10-02T00:00:00",
          "2004-10-06T00:00:00",
          "2004-10-08T00:00:00",
          "2004-10-11T00:00:00",
          "2004-09-06T00:00:00",
          "2004-09-05T00:00:00",
          "2004-09-03T00:00:00",
          "2004-07-16T00:00:00",
          "2004-06-09T00:00:00",
          "2004-06-16T00:00:00",
          "2004-06-29T00:00:00",
          "2004-07-01T00:00:00",
          "2004-07-02T00:00:00",
          "2004-07-03T00:00:00",
          "2004-07-06T00:00:00",
          "2004-08-01T00:00:00",
          "2004-08-30T00:00:00",
          "2004-08-07T00:00:00",
          "2004-08-15T00:00:00",
          "2004-08-18T00:00:00",
          "2004-08-25T00:00:00",
          "2004-08-27T00:00:00",
          "2004-08-28T00:00:00",
          "2004-08-29T00:00:00",
          "2013-09-13T00:00:00",
          "2014-04-29T00:00:00",
          "2014-05-01T00:00:00",
          "2019-06-16T00:00:00",
          "2019-07-21T00:00:00",
          "2019-07-23T00:00:00",
          "2019-07-24T00:00:00",
          "2019-07-25T00:00:00",
          "2019-07-26T00:00:00",
          "2019-07-28T00:00:00",
          "2019-08-03T00:00:00",
          "2019-08-04T00:00:00",
          "2019-08-08T00:00:00",
          "2019-08-10T00:00:00",
          "2019-08-11T00:00:00",
          "2019-08-12T00:00:00",
          "2019-08-13T00:00:00",
          "2019-08-15T00:00:00",
          "2019-08-17T00:00:00",
          "2019-08-18T00:00:00",
          "2019-08-19T00:00:00",
          "2019-06-19T00:00:00",
          "2019-06-14T00:00:00",
          "2018-09-13T00:00:00",
          "2008-08-22T00:00:00",
          "2018-09-17T00:00:00",
          "2018-09-18T00:00:00",
          "2018-09-19T00:00:00",
          "2018-09-20T00:00:00",
          "2018-09-22T00:00:00",
          "2018-10-01T00:00:00",
          "2018-10-02T00:00:00",
          "2018-10-03T00:00:00",
          "2018-10-14T00:00:00",
          "2018-10-16T00:00:00",
          "2019-05-27T00:00:00",
          "2007-10-28T00:00:00",
          "2008-06-09T00:00:00",
          "2008-08-05T00:00:00",
          "2008-08-07T00:00:00",
          "2008-08-13T00:00:00",
          "2008-08-14T00:00:00",
          "2019-08-20T00:00:00",
          "2019-08-21T00:00:00",
          "2019-08-22T00:00:00",
          "2019-09-03T00:00:00",
          "2020-07-30T00:00:00",
          "2020-08-28T00:00:00",
          "2020-09-02T00:00:00",
          "2020-09-13T00:00:00",
          "2020-09-28T00:00:00",
          "2020-09-29T00:00:00",
          "2020-10-06T00:00:00",
          "2020-10-09T00:00:00",
          "2020-10-11T00:00:00",
          "2020-10-31T00:00:00",
          "2011-07-05T00:00:00",
          "2011-07-13T00:00:00",
          "2011-07-19T00:00:00",
          "2011-07-21T00:00:00",
          "2011-07-22T00:00:00",
          "2011-07-24T00:00:00",
          "2011-07-25T00:00:00",
          "2020-07-23T00:00:00",
          "2020-07-20T00:00:00",
          "2020-07-18T00:00:00",
          "2020-06-20T00:00:00",
          "2019-09-05T00:00:00",
          "2019-09-06T00:00:00",
          "2019-09-15T00:00:00",
          "2019-10-07T00:00:00",
          "2019-10-20T00:00:00",
          "2019-10-22T00:00:00",
          "2019-10-23T00:00:00",
          "2020-06-21T00:00:00",
          "2020-07-17T00:00:00",
          "2020-06-27T00:00:00",
          "2020-06-28T00:00:00",
          "2020-06-29T00:00:00",
          "2020-07-04T00:00:00",
          "2020-07-07T00:00:00",
          "2020-07-11T00:00:00",
          "2020-07-16T00:00:00",
          "2018-09-15T00:00:00",
          "2018-09-10T00:00:00",
          "2014-05-02T00:00:00",
          "2007-07-11T00:00:00",
          "2014-05-15T00:00:00",
          "2007-07-12T00:00:00",
          "2007-07-13T00:00:00",
          "2007-07-17T00:00:00",
          "2007-07-19T00:00:00",
          "2007-07-20T00:00:00",
          "2007-07-21T00:00:00",
          "2007-07-23T00:00:00",
          "2007-07-24T00:00:00",
          "2007-07-31T00:00:00",
          "2014-06-02T00:00:00",
          "2007-08-01T00:00:00",
          "2007-08-02T00:00:00",
          "2007-08-10T00:00:00",
          "2007-08-11T00:00:00",
          "2007-08-12T00:00:00",
          "2007-08-18T00:00:00",
          "2014-05-14T00:00:00",
          "2007-07-10T00:00:00",
          "2018-09-08T00:00:00",
          "2007-07-08T00:00:00",
          "2007-05-01T00:00:00",
          "2007-06-01T00:00:00",
          "2007-06-16T00:00:00",
          "2007-06-20T00:00:00",
          "2014-05-03T00:00:00",
          "2014-05-05T00:00:00",
          "2014-05-07T00:00:00",
          "2014-05-08T00:00:00",
          "2014-05-09T00:00:00",
          "2014-05-11T00:00:00",
          "2007-06-22T00:00:00",
          "2007-07-02T00:00:00",
          "2007-07-05T00:00:00",
          "2007-07-06T00:00:00",
          "2014-05-12T00:00:00",
          "2014-05-13T00:00:00",
          "2007-07-07T00:00:00",
          "2007-09-12T00:00:00",
          "2007-09-13T00:00:00",
          "2007-09-14T00:00:00",
          "2007-09-15T00:00:00",
          "2018-07-16T00:00:00",
          "2018-07-17T00:00:00",
          "2018-07-22T00:00:00",
          "2018-07-23T00:00:00",
          "2018-07-27T00:00:00",
          "2018-07-28T00:00:00",
          "2018-07-29T00:00:00",
          "2018-07-30T00:00:00",
          "2018-08-14T00:00:00",
          "2018-08-21T00:00:00",
          "2018-09-02T00:00:00",
          "2018-09-03T00:00:00",
          "2007-09-27T00:00:00",
          "2007-09-29T00:00:00",
          "2018-09-05T00:00:00",
          "2018-09-06T00:00:00",
          "2018-09-07T00:00:00",
          "2018-07-14T00:00:00",
          "2018-07-10T00:00:00",
          "2018-07-09T00:00:00",
          "2014-06-19T00:00:00",
          "2007-09-17T00:00:00",
          "2007-09-18T00:00:00",
          "2007-09-19T00:00:00",
          "2014-06-03T00:00:00",
          "2014-06-04T00:00:00",
          "2014-06-05T00:00:00",
          "2014-06-18T00:00:00",
          "2014-06-20T00:00:00",
          "2018-07-08T00:00:00",
          "2014-06-21T00:00:00",
          "2014-06-22T00:00:00",
          "2007-09-20T00:00:00",
          "2007-09-23T00:00:00",
          "2007-09-24T00:00:00",
          "2014-06-23T00:00:00",
          "2014-07-28T00:00:00",
          "2017-08-30T00:00:00",
          "2018-07-04T00:00:00",
          "2017-08-19T00:00:00",
          "2015-07-07T00:00:00",
          "2015-10-18T00:00:00",
          "2015-09-25T00:00:00",
          "2015-09-17T00:00:00",
          "2015-09-07T00:00:00",
          "2017-08-18T00:00:00",
          "2015-08-09T00:00:00",
          "2015-08-08T00:00:00",
          "2015-08-03T00:00:00",
          "2015-08-02T00:00:00",
          "2015-07-16T00:00:00",
          "2015-07-15T00:00:00",
          "2015-07-12T00:00:00",
          "2015-07-08T00:00:00",
          "2012-08-08T00:00:00",
          "2016-08-08T00:00:00",
          "2015-07-06T00:00:00",
          "2012-07-29T00:00:00",
          "2012-07-28T00:00:00",
          "2012-07-27T00:00:00",
          "2012-07-14T00:00:00",
          "2012-07-10T00:00:00",
          "2012-07-08T00:00:00",
          "2012-07-05T00:00:00",
          "2012-07-03T00:00:00",
          "2012-06-28T00:00:00",
          "2015-07-05T00:00:00",
          "2012-06-27T00:00:00",
          "2012-06-26T00:00:00",
          "2016-08-07T00:00:00",
          "2016-08-09T00:00:00",
          "2015-07-02T00:00:00",
          "2016-08-12T00:00:00",
          "2016-08-21T00:00:00",
          "2016-08-19T00:00:00",
          "2016-08-18T00:00:00",
          "2016-08-15T00:00:00",
          "2016-08-14T00:00:00",
          "2016-08-13T00:00:00",
          "2012-08-11T00:00:00",
          "2012-08-10T00:00:00",
          "2012-08-09T00:00:00",
          "2010-09-02T00:00:00",
          "2010-09-06T00:00:00",
          "2010-09-11T00:00:00",
          "2010-10-20T00:00:00",
          "2010-10-21T00:00:00",
          "2016-08-10T00:00:00",
          "2011-05-25T00:00:00",
          "2011-05-27T00:00:00",
          "2011-05-30T00:00:00",
          "2011-06-01T00:00:00",
          "2011-06-03T00:00:00",
          "2011-06-04T00:00:00",
          "2011-06-07T00:00:00",
          "2011-06-10T00:00:00",
          "2011-06-11T00:00:00",
          "2011-06-13T00:00:00",
          "2011-06-15T00:00:00",
          "2001-07-12T00:00:00",
          "2016-08-11T00:00:00",
          "2015-07-03T00:00:00",
          "2015-07-01T00:00:00",
          "2016-08-24T00:00:00",
          "2011-06-21T00:00:00",
          "2011-10-21T00:00:00",
          "2011-09-23T00:00:00",
          "2011-08-22T00:00:00",
          "2011-08-21T00:00:00",
          "2011-08-20T00:00:00",
          "2011-08-18T00:00:00",
          "2011-08-13T00:00:00",
          "2011-08-11T00:00:00",
          "2011-08-10T00:00:00",
          "2011-08-09T00:00:00",
          "2011-08-08T00:00:00",
          "2011-08-07T00:00:00",
          "2014-10-08T00:00:00",
          "2011-06-24T00:00:00",
          "2011-10-27T00:00:00",
          "2014-10-06T00:00:00",
          "2014-09-20T00:00:00",
          "2011-06-27T00:00:00",
          "2011-06-29T00:00:00",
          "2011-06-30T00:00:00",
          "2011-07-01T00:00:00",
          "2011-07-03T00:00:00",
          "2014-09-19T00:00:00",
          "2014-09-16T00:00:00",
          "2014-08-28T00:00:00",
          "2014-08-27T00:00:00",
          "2014-08-03T00:00:00",
          "2014-08-01T00:00:00",
          "2011-10-24T00:00:00",
          "2012-05-20T00:00:00",
          "2015-06-30T00:00:00",
          "2014-10-18T00:00:00",
          "2015-06-29T00:00:00",
          "2015-05-10T00:00:00",
          "2015-05-09T00:00:00",
          "2015-05-07T00:00:00",
          "2015-05-03T00:00:00",
          "2015-05-02T00:00:00",
          "2015-04-30T00:00:00",
          "2015-04-29T00:00:00",
          "2014-10-24T00:00:00",
          "2014-10-22T00:00:00",
          "2014-10-21T00:00:00",
          "2014-10-20T00:00:00",
          "2014-10-19T00:00:00",
          "2014-10-17T00:00:00",
          "2012-06-15T00:00:00",
          "2014-10-15T00:00:00",
          "2014-10-14T00:00:00",
          "2014-10-13T00:00:00",
          "2012-06-24T00:00:00",
          "2012-06-23T00:00:00",
          "2012-06-22T00:00:00",
          "2012-06-21T00:00:00",
          "2012-06-19T00:00:00",
          "2012-06-17T00:00:00",
          "2014-10-12T00:00:00",
          "2014-10-11T00:00:00",
          "2014-10-10T00:00:00",
          "2014-10-09T00:00:00",
          "2016-08-22T00:00:00",
          "2015-08-11T00:00:00",
          "2016-08-25T00:00:00",
          "2012-09-28T00:00:00",
          "2009-06-11T00:00:00",
          "2009-06-12T00:00:00",
          "2009-06-16T00:00:00",
          "2009-06-17T00:00:00",
          "2009-06-18T00:00:00",
          "2009-06-24T00:00:00",
          "2009-06-25T00:00:00",
          "2009-06-27T00:00:00",
          "2009-06-29T00:00:00",
          "2009-06-30T00:00:00",
          "2013-06-06T00:00:00",
          "2012-10-15T00:00:00",
          "2012-10-12T00:00:00",
          "2009-07-11T00:00:00",
          "2017-07-20T00:00:00",
          "2009-08-03T00:00:00",
          "2009-08-08T00:00:00",
          "2009-08-12T00:00:00",
          "2009-08-15T00:00:00",
          "2009-08-17T00:00:00",
          "2009-09-02T00:00:00",
          "2009-09-06T00:00:00",
          "2009-09-07T00:00:00",
          "2009-10-10T00:00:00",
          "2012-09-27T00:00:00",
          "2012-09-26T00:00:00",
          "2012-09-25T00:00:00",
          "2017-07-25T00:00:00",
          "2009-06-08T00:00:00",
          "2009-06-02T00:00:00",
          "2008-11-05T00:00:00",
          "2008-11-04T00:00:00",
          "2017-08-09T00:00:00",
          "2017-07-31T00:00:00",
          "2017-07-30T00:00:00",
          "2008-08-29T00:00:00",
          "2008-09-01T00:00:00",
          "2008-09-04T00:00:00",
          "2008-09-05T00:00:00",
          "2011-07-26T00:00:00",
          "2011-07-28T00:00:00",
          "2001-10-15T00:00:00",
          "2001-10-09T00:00:00",
          "2001-10-07T00:00:00",
          "2001-10-04T00:00:00",
          "2001-07-21T00:00:00",
          "2016-08-26T00:00:00",
          "2008-09-20T00:00:00",
          "2008-09-21T00:00:00",
          "2008-09-28T00:00:00",
          "2011-07-29T00:00:00",
          "2011-07-30T00:00:00",
          "2011-07-31T00:00:00",
          "2011-08-01T00:00:00",
          "2011-08-02T00:00:00",
          "2011-08-04T00:00:00",
          "2011-08-05T00:00:00",
          "2011-08-06T00:00:00",
          "2008-10-30T00:00:00",
          "2017-07-24T00:00:00",
          "2008-09-08T00:00:00",
          "2017-07-08T00:00:00",
          "2010-07-09T00:00:00",
          "2010-07-28T00:00:00",
          "2010-07-30T00:00:00",
          "2012-09-04T00:00:00",
          "2012-09-03T00:00:00",
          "2012-09-02T00:00:00",
          "2010-08-22T00:00:00",
          "2010-08-23T00:00:00",
          "2017-06-20T00:00:00",
          "2017-06-19T00:00:00",
          "2016-09-29T00:00:00",
          "2016-09-14T00:00:00",
          "2016-09-13T00:00:00",
          "2016-09-11T00:00:00",
          "2016-09-09T00:00:00",
          "2010-08-25T00:00:00",
          "2016-09-08T00:00:00",
          "2016-09-07T00:00:00",
          "2016-09-04T00:00:00",
          "2016-08-31T00:00:00",
          "2010-07-11T00:00:00",
          "2012-08-25T00:00:00",
          "2010-07-07T00:00:00",
          "2012-09-09T00:00:00",
          "2017-06-21T00:00:00",
          "2009-10-11T00:00:00",
          "2009-10-12T00:00:00",
          "2009-10-13T00:00:00",
          "2009-10-15T00:00:00",
          "2009-10-20T00:00:00",
          "2010-06-30T00:00:00",
          "2012-09-12T00:00:00",
          "2016-08-29T00:00:00",
          "2012-08-15T00:00:00",
          "2012-08-22T00:00:00",
          "2012-09-14T00:00:00",
          "2010-06-25T00:00:00",
          "2010-06-28T00:00:00",
          "2012-09-08T00:00:00",
          "2012-09-07T00:00:00",
          "2009-11-02T00:00:00"
         ],
         "xaxis": "x",
         "y": [
          0.2161500582128651,
          0.3349999045955822,
          0.2670742149348339,
          0.33606552019663,
          0.3804685860741891,
          0.3427613660618997,
          0.3497724701659067,
          0.2938791791986029,
          0.3112634762782574,
          0.3354518611946573,
          0.2835206962905469,
          0.2323323986934446,
          0.4932546198376508,
          0.3462284563888619,
          0.3705945457779502,
          0.3701235212315256,
          0.3624978606772097,
          0.2741363409980272,
          0.349785099123573,
          0.2764925681575628,
          0.2691813767342582,
          0.403956189967983,
          0.289898882636396,
          0.2878573364380195,
          0.238122711102487,
          0.4205463568448627,
          0.317071988292746,
          0.3113836615892111,
          0.2974695498205103,
          0.2951383558099673,
          0.2881043287733255,
          0.2447821286504317,
          0.3018259888101937,
          0.2854983134439378,
          0.2152809530739627,
          0.3515975906341968,
          0.3603269816629475,
          0.275469250671065,
          0.4169352155493031,
          0.4314969551437534,
          0.2714535477507196,
          0.3714085120144886,
          0.2572007810226059,
          0.364294641182368,
          0.3151512920021991,
          0.3517851654215581,
          0.3337085702273536,
          0.3539421444972673,
          0.3426942175220723,
          0.3303919617735519,
          0.3493965977814431,
          0.4489711619934673,
          0.272952343067818,
          0.2947545406034734,
          0.2825582710779082,
          0.3142364283173248,
          0.3450358882312991,
          0.4261160602826558,
          0.2452666957730992,
          0.308145874971702,
          0.3353958458652696,
          0.2969259305973286,
          0.275185435464571,
          0.3695357346140164,
          0.2630675059021377,
          0.4130691843730798,
          0.3836600740597005,
          0.2219622715953559,
          0.3581518903010899,
          0.4072261052359238,
          0.4102900051744769,
          0.3757090149089615,
          0.2954983716568028,
          0.2998657029203455,
          0.3803360046570291,
          0.3547056498819573,
          0.2812558034992399,
          0.3033503282558779,
          0.3270787846447398,
          0.1821443129264901,
          0.3510595048672424,
          0.3935931211797808,
          0.35565580349924,
          0.2587179295624333,
          0.4288714692280327,
          0.3516541460496103,
          0.1788020148119401,
          0.40495010834061,
          0.2708925681575628,
          0.4148246887228745,
          0.3465202726302513,
          0.2806413343682287,
          0.2817540296238802,
          0.3178712945894376,
          0.2773311649041104,
          0.3315780327285663,
          0.0408457795672843,
          0.2182996054461369,
          0.4862779211539084,
          0.2696553216260793,
          0.3918713528023027,
          0.2957806539245173,
          0.2427052925196468,
          0.3560682578183112,
          0.2986147391740241,
          0.3663779745157013,
          0.3774605559328611,
          0.17864241454028,
          0.3492736295721355,
          0.4021607596778888,
          0.3406283981759969,
          0.3232224410594742,
          0.34603269784289,
          0.3853332670353481,
          0.3226020439183726,
          0.3204863701044597,
          0.3629688270107694,
          0.3113281572394165,
          0.3325766534070696,
          0.2713928382005756,
          0.220987333850781,
          0.3141538469001649,
          0.3371772517059604,
          0.2085119724459105,
          0.2162938601597619,
          0.3804325151191747,
          0.3271254196177355,
          0.3268605268264287,
          0.384667746838718,
          0.4312899760680444,
          0.3391336906956437,
          0.462407752013195,
          0.3638436774360468,
          0.446520256460011,
          0.2888871220206332,
          0.2933901296853271,
          0.2188990362536787,
          0.4463309449888426,
          0.4375163303256686,
          0.4043618770414929,
          0.3168856181882862,
          0.4036440639047896,
          0.3556687396914718,
          0.3721598250380001,
          0.3711576064810323,
          0.2797485834869506,
          0.3028127825749491,
          0.3339501164257301,
          0.2469622133824908,
          0.3057801720513566,
          0.3426971669739013,
          0.3187852818472882,
          0.2764318877138514,
          0.2992483134439377,
          0.4088480353158048,
          0.2364990362536787,
          0.3502245140842793,
          0.3545268571520972,
          0.3109766534070696,
          0.3032371802334982,
          0.3258639872578506,
          0.3978112415510495,
          0.3739667830923968,
          0.3651233676142428,
          0.4261329015879176,
          0.3023471669739012,
          0.3445533941334368,
          0.3681502991494454,
          0.162800781022606,
          0.3511146437696064,
          0.3006209663335598,
          0.3327698489699556,
          0.2108861000614469,
          0.2697553798389444,
          0.321249335403124,
          0.2910098040166877,
          0.2506423563274151,
          0.3394555625626597,
          0.3544280327285663,
          0.3369846835483976,
          0.2409423272209825,
          0.3383269525565149,
          0.1897216891433007,
          0.357138954108858,
          0.3900965023770253,
          0.2967497881698522,
          0.3655495682545843,
          0.3861507147246208,
          0.2189788800491575,
          0.0889808657546651,
          0.3497135344911226,
          0.3558563144788331,
          0.2754033068141393,
          0.3023317340965686,
          0.2265127534685165,
          0.3274276462598234,
          0.2636256896607484,
          0.3074793910287506,
          0.4353656285372401,
          0.291753846900165,
          0.3015858591248666,
          0.2522249959574399,
          0.3978534523463019,
          0.3033021021312376,
          0.1737505691924581,
          0.2792117315093302,
          0.2903592930370945,
          0.2880612496361696,
          0.2907582710779082,
          0.3500120597652081,
          0.3683889250024255,
          0.3516558034992399,
          0.3223189515216196,
          0.2491687105850393,
          0.1789443129264901,
          0.3734969260373209,
          0.2963458458652696,
          0.3696374211700786,
          0.2088289091555901,
          0.3483582710779082,
          0.3269119724459106,
          0.3039537886872999,
          0.318357760098315,
          0.2245313767342583,
          0.3546087820575014,
          0.2764025840043984,
          0.3296869684033504,
          0.3772793829436305,
          0.344791633517674,
          0.2525055043497946,
          0.3250759597037612,
          0.3286948821189482,
          0.3253474079104815,
          0.338750839235471,
          0.3384548397529187,
          0.2473582710779082,
          0.264473163869215,
          0.3427252077875878,
          0.3388234630186605,
          0.3374153083664823,
          0.4061793829436305,
          0.358601620258077,
          0.2913786973254422,
          0.3670822450761618,
          0.2410843552925196,
          0.3246428673070081,
          0.3701742731476989,
          0.3273816758837036,
          0.270221930079881,
          0.3140062853724005,
          0.3073518029817922,
          0.358360825975874,
          0.281026952556515,
          0.3259647682804567,
          0.2612839025257916,
          0.2851878448303742,
          0.326687392063646,
          0.2723936192231816,
          0.3043218346754632,
          0.2010182869247437,
          0.2216594757608098,
          0.1763308657546651,
          0.3143045114970408,
          0.2395998172762847,
          0.2412137172148378,
          0.3402758060864784,
          0.3953970796546037,
          0.2669249086381423,
          0.2308137172148378,
          0.2863090812069467,
          0.2430774053232431,
          0.2164990362536787,
          0.3239503573623104,
          0.3335306539245173,
          0.3053430791371559,
          0.3739111251253194,
          0.2711045114970408,
          0.3229898887487468,
          0.1420405824520552,
          0.3046690097344846,
          0.3613786973254422,
          0.3561135344911225,
          0.2419194625012128,
          0.2627567381391287,
          0.2990025257915332,
          0.4344171614760196,
          0.3443227402089195,
          0.3139130235115293,
          0.3421679877752983,
          0.3890547152420685,
          0.1981997881698522,
          0.3889878949581191,
          0.3718439474790596,
          0.2436903706219075,
          0.295021930079881,
          0.2342410934316484,
          0.3719777917919861,
          0.3852583875036383,
          0.2073734339122279,
          0.3790593803563921,
          0.3718451812683937,
          0.221559986740403,
          0.1539065554154134,
          0.2050390786197083,
          0.3275781863458491,
          0.3614969260373209,
          0.2592403415154749,
          0.3445075482681673,
          0.4477757980013583,
          0.3315572782251544,
          0.2826809239675301,
          0.2256699443743734,
          0.463220921056887,
          0.368053963325895,
          0.3614951230555286,
          0.3426891950454384,
          0.4099644238543385,
          0.3239158193460755,
          0.3531911225380809,
          0.3397595921865399,
          0.235345093949096,
          0.3068266534070696,
          0.2752040296238802,
          0.1615793910287506,
          0.3068814349471233,
          0.3937597959315675,
          0.2962444002457876,
          0.3879060363507002,
          0.3738267989392322,
          0.3020018611946573,
          0.2754537886872999,
          0.3389398887487468,
          0.3256028831538436,
          0.3231031240904239,
          0.2549689515216196,
          0.3741088111639339,
          0.3353764415769218,
          0.4090564891174283,
          0.2644343552925196,
          0.2073463277384302,
          0.2647318877138514,
          0.3048018029817924,
          0.3196289964748876,
          0.3913075612043595,
          0.3466078183111801,
          0.349489676918599,
          0.2923433782866013,
          0.339442356327415,
          0.3609175350085703,
          0.3787975906341969,
          0.3422973496976165,
          0.3020709663335597,
          0.2988666957730991,
          0.2592948821189483,
          0.2360012628957666,
          0.3719490944665438,
          0.2902120597652081,
          0.3151642281944309,
          0.2923027958345461,
          0.2467813767342583,
          0.2909119724459105,
          0.1136376038937938,
          0.3521505691924583,
          0.3149449985446784,
          0.0391252660004527,
          0.3419647682804567,
          0.3781486999126807,
          0.1836045114970408,
          0.2245550515830665,
          0.3483598913359852,
          0.3121184987548915,
          0.2112145564503089,
          0.3209113369554671,
          0.3132968387180234,
          0.4830761553636687,
          0.1966866110410401,
          0.3898514957472269,
          0.4328528540474112,
          0.4378186653083665,
          0.2815627825749491,
          0.393562388021086,
          0.3740028249409786,
          0.3336664839429514,
          0.3398311649041104,
          0.2902527667281136,
          0.3525385304485625,
          0.3466404288347725,
          0.2990219300798809,
          0.3277902752174897,
          0.3379963568448628,
          0.1908343552925196,
          0.3212486416998156,
          0.2914562853724006,
          0.2459286682190097,
          0.3657817923094338,
          0.3313948821189482,
          0.2659598040166877,
          0.2876087529510689,
          0.353160884188739,
          0.3150657029203454,
          0.2648194333947802,
          0.3620318214158662,
          0.3732757478736134,
          0.3151512920021991,
          0.1805363409980272,
          0.2290132062352446,
          0.2967383558099673,
          0.3959948740338282,
          0.3262184987548915,
          0.2920120306587756,
          0.374418133307461,
          0.377010825975874,
          0.350002284854953,
          0.3546956631415542,
          0.3229378448303742,
          0.3432159729633582,
          0.3083360046570292,
          0.1777090229940817,
          0.2545371220206332,
          0.2963431082435885,
          0.3270627825749491,
          0.3215649138126192,
          0.3368981307202225,
          0.431841625432554,
          0.4285410190485431,
          0.2805766534070696,
          0.2866719591863135,
          0.1231497881698522,
          0.3650874793829436,
          0.3043113078490346,
          0.3979566346495909,
          0.3633108550823065,
          0.3254387131722777,
          0.2750074900553022,
          0.3394562853724006,
          0.254258541120921,
          0.2932836324827786,
          0.2558262006403415,
          0.2725856764011513,
          0.3957598331231202,
          0.2527100158468355,
          0.4059153665793474,
          0.3381053507325118,
          0.3364485171889654,
          0.3856297192846286,
          0.4283533278354516,
          0.3684731266776625,
          0.4068940347983571,
          0.4068132272565571,
          0.4108403334303548,
          0.308035435464571,
          0.3432183160311762,
          0.3731516202580771,
          0.3944309530739627,
          0.4071070955014392,
          0.3879573946508844,
          0.3828943711393551,
          0.3694307412438149,
          0.3691519776203875,
          0.301624667701562,
          0.1452201853109537,
          0.3534432246693186,
          0.3452774344296757,
          0.334526229746774,
          0.1847036059635846,
          0.4144849244849778,
          0.3432609132951715,
          0.4144952976941237,
          0.3626599786552829,
          0.3112726819960544,
          0.3227570081821416,
          0.3525045406034734,
          0.15894431292649,
          0.3095254196177355,
          0.3887499337020149,
          0.3679325733320397,
          0.186949277190259,
          0.2270851072086931,
          0.2089022848549529,
          0.378943976585492,
          0.267183931632224,
          0.3552106141457262,
          0.2943398887487468,
          0.2825582710779082,
          0.290857365544452,
          0.3289581174606254,
          0.2910592348242295,
          0.4102231557840949,
          0.3313388667895605,
          0.3248326396300249,
          0.3253984589761004,
          0.3566696080333754,
          0.3671318877138514,
          0.3915829598007827,
          0.4395943840755473,
          0.3257152210471847,
          0.3043647391740241,
          0.3592029995795738,
          0.1747438019468969,
          0.3460774344296756,
          0.3388018611946574,
          0.3390478024643446,
          0.2766672067526923,
          0.3730981307202224,
          0.2539971087610362,
          0.4217264706833544,
          0.3660402461110572,
          0.2998659729633582,
          0.3473846835483976,
          0.3614563435852656,
          0.2465496054461369,
          0.1828266534070697,
          0.118750561107338,
          0.3354035477507196,
          0.3522503573623103,
          0.3092127534685165,
          0.3064255360434656,
          0.3563508101290386,
          0.3044419326671194,
          0.292857365544452,
          0.2806644691310113,
          0.2923438019468969,
          0.325038114873387,
          0.2502475615277643,
          0.2984520439183726,
          0.3474408524950682,
          0.3540610378060219,
          0.1789169367096795,
          0.3847648555997542,
          0.3390436774360467,
          0.3027595048672424,
          0.322170031693671,
          0.4663635684486272,
          0.2529259305973286,
          0.3265705135668316,
          0.2983883558099673,
          0.2819289382620226,
          0.2502201853109537,
          0.2770778871964037,
          0.3784475534426442,
          0.2875027958345461,
          0.3161354645710035,
          0.2659351363151256,
          0.2942191924581999,
          0.3766374502765111,
          0.3430739739982536,
          0.3313906115584877,
          0.3962928673070082,
          0.2107696743313605,
          0.3504289673684551,
          0.2740363992108923,
          0.3561218055690308,
          0.3256794201351832,
          0.3191451230555286,
          0.3392159729633582,
          0.2885637172148378,
          0.263509263930662,
          0.2663013502150642,
          0.3766571246078717,
          0.3309898596423143,
          0.25508661104104,
          0.3211157320267779,
          0.3751105559328611,
          0.3182424436467126,
          0.4239403997283399,
          0.2491329096730377
         ],
         "yaxis": "y"
        }
       ],
       "layout": {
        "legend": {
         "tracegroupgap": 0
        },
        "margin": {
         "t": 60
        },
        "template": {
         "data": {
          "bar": [
           {
            "error_x": {
             "color": "#2a3f5f"
            },
            "error_y": {
             "color": "#2a3f5f"
            },
            "marker": {
             "line": {
              "color": "#E5ECF6",
              "width": 0.5
             },
             "pattern": {
              "fillmode": "overlay",
              "size": 10,
              "solidity": 0.2
             }
            },
            "type": "bar"
           }
          ],
          "barpolar": [
           {
            "marker": {
             "line": {
              "color": "#E5ECF6",
              "width": 0.5
             },
             "pattern": {
              "fillmode": "overlay",
              "size": 10,
              "solidity": 0.2
             }
            },
            "type": "barpolar"
           }
          ],
          "carpet": [
           {
            "aaxis": {
             "endlinecolor": "#2a3f5f",
             "gridcolor": "white",
             "linecolor": "white",
             "minorgridcolor": "white",
             "startlinecolor": "#2a3f5f"
            },
            "baxis": {
             "endlinecolor": "#2a3f5f",
             "gridcolor": "white",
             "linecolor": "white",
             "minorgridcolor": "white",
             "startlinecolor": "#2a3f5f"
            },
            "type": "carpet"
           }
          ],
          "choropleth": [
           {
            "colorbar": {
             "outlinewidth": 0,
             "ticks": ""
            },
            "type": "choropleth"
           }
          ],
          "contour": [
           {
            "colorbar": {
             "outlinewidth": 0,
             "ticks": ""
            },
            "colorscale": [
             [
              0,
              "#0d0887"
             ],
             [
              0.1111111111111111,
              "#46039f"
             ],
             [
              0.2222222222222222,
              "#7201a8"
             ],
             [
              0.3333333333333333,
              "#9c179e"
             ],
             [
              0.4444444444444444,
              "#bd3786"
             ],
             [
              0.5555555555555556,
              "#d8576b"
             ],
             [
              0.6666666666666666,
              "#ed7953"
             ],
             [
              0.7777777777777778,
              "#fb9f3a"
             ],
             [
              0.8888888888888888,
              "#fdca26"
             ],
             [
              1,
              "#f0f921"
             ]
            ],
            "type": "contour"
           }
          ],
          "contourcarpet": [
           {
            "colorbar": {
             "outlinewidth": 0,
             "ticks": ""
            },
            "type": "contourcarpet"
           }
          ],
          "heatmap": [
           {
            "colorbar": {
             "outlinewidth": 0,
             "ticks": ""
            },
            "colorscale": [
             [
              0,
              "#0d0887"
             ],
             [
              0.1111111111111111,
              "#46039f"
             ],
             [
              0.2222222222222222,
              "#7201a8"
             ],
             [
              0.3333333333333333,
              "#9c179e"
             ],
             [
              0.4444444444444444,
              "#bd3786"
             ],
             [
              0.5555555555555556,
              "#d8576b"
             ],
             [
              0.6666666666666666,
              "#ed7953"
             ],
             [
              0.7777777777777778,
              "#fb9f3a"
             ],
             [
              0.8888888888888888,
              "#fdca26"
             ],
             [
              1,
              "#f0f921"
             ]
            ],
            "type": "heatmap"
           }
          ],
          "heatmapgl": [
           {
            "colorbar": {
             "outlinewidth": 0,
             "ticks": ""
            },
            "colorscale": [
             [
              0,
              "#0d0887"
             ],
             [
              0.1111111111111111,
              "#46039f"
             ],
             [
              0.2222222222222222,
              "#7201a8"
             ],
             [
              0.3333333333333333,
              "#9c179e"
             ],
             [
              0.4444444444444444,
              "#bd3786"
             ],
             [
              0.5555555555555556,
              "#d8576b"
             ],
             [
              0.6666666666666666,
              "#ed7953"
             ],
             [
              0.7777777777777778,
              "#fb9f3a"
             ],
             [
              0.8888888888888888,
              "#fdca26"
             ],
             [
              1,
              "#f0f921"
             ]
            ],
            "type": "heatmapgl"
           }
          ],
          "histogram": [
           {
            "marker": {
             "pattern": {
              "fillmode": "overlay",
              "size": 10,
              "solidity": 0.2
             }
            },
            "type": "histogram"
           }
          ],
          "histogram2d": [
           {
            "colorbar": {
             "outlinewidth": 0,
             "ticks": ""
            },
            "colorscale": [
             [
              0,
              "#0d0887"
             ],
             [
              0.1111111111111111,
              "#46039f"
             ],
             [
              0.2222222222222222,
              "#7201a8"
             ],
             [
              0.3333333333333333,
              "#9c179e"
             ],
             [
              0.4444444444444444,
              "#bd3786"
             ],
             [
              0.5555555555555556,
              "#d8576b"
             ],
             [
              0.6666666666666666,
              "#ed7953"
             ],
             [
              0.7777777777777778,
              "#fb9f3a"
             ],
             [
              0.8888888888888888,
              "#fdca26"
             ],
             [
              1,
              "#f0f921"
             ]
            ],
            "type": "histogram2d"
           }
          ],
          "histogram2dcontour": [
           {
            "colorbar": {
             "outlinewidth": 0,
             "ticks": ""
            },
            "colorscale": [
             [
              0,
              "#0d0887"
             ],
             [
              0.1111111111111111,
              "#46039f"
             ],
             [
              0.2222222222222222,
              "#7201a8"
             ],
             [
              0.3333333333333333,
              "#9c179e"
             ],
             [
              0.4444444444444444,
              "#bd3786"
             ],
             [
              0.5555555555555556,
              "#d8576b"
             ],
             [
              0.6666666666666666,
              "#ed7953"
             ],
             [
              0.7777777777777778,
              "#fb9f3a"
             ],
             [
              0.8888888888888888,
              "#fdca26"
             ],
             [
              1,
              "#f0f921"
             ]
            ],
            "type": "histogram2dcontour"
           }
          ],
          "mesh3d": [
           {
            "colorbar": {
             "outlinewidth": 0,
             "ticks": ""
            },
            "type": "mesh3d"
           }
          ],
          "parcoords": [
           {
            "line": {
             "colorbar": {
              "outlinewidth": 0,
              "ticks": ""
             }
            },
            "type": "parcoords"
           }
          ],
          "pie": [
           {
            "automargin": true,
            "type": "pie"
           }
          ],
          "scatter": [
           {
            "marker": {
             "colorbar": {
              "outlinewidth": 0,
              "ticks": ""
             }
            },
            "type": "scatter"
           }
          ],
          "scatter3d": [
           {
            "line": {
             "colorbar": {
              "outlinewidth": 0,
              "ticks": ""
             }
            },
            "marker": {
             "colorbar": {
              "outlinewidth": 0,
              "ticks": ""
             }
            },
            "type": "scatter3d"
           }
          ],
          "scattercarpet": [
           {
            "marker": {
             "colorbar": {
              "outlinewidth": 0,
              "ticks": ""
             }
            },
            "type": "scattercarpet"
           }
          ],
          "scattergeo": [
           {
            "marker": {
             "colorbar": {
              "outlinewidth": 0,
              "ticks": ""
             }
            },
            "type": "scattergeo"
           }
          ],
          "scattergl": [
           {
            "marker": {
             "colorbar": {
              "outlinewidth": 0,
              "ticks": ""
             }
            },
            "type": "scattergl"
           }
          ],
          "scattermapbox": [
           {
            "marker": {
             "colorbar": {
              "outlinewidth": 0,
              "ticks": ""
             }
            },
            "type": "scattermapbox"
           }
          ],
          "scatterpolar": [
           {
            "marker": {
             "colorbar": {
              "outlinewidth": 0,
              "ticks": ""
             }
            },
            "type": "scatterpolar"
           }
          ],
          "scatterpolargl": [
           {
            "marker": {
             "colorbar": {
              "outlinewidth": 0,
              "ticks": ""
             }
            },
            "type": "scatterpolargl"
           }
          ],
          "scatterternary": [
           {
            "marker": {
             "colorbar": {
              "outlinewidth": 0,
              "ticks": ""
             }
            },
            "type": "scatterternary"
           }
          ],
          "surface": [
           {
            "colorbar": {
             "outlinewidth": 0,
             "ticks": ""
            },
            "colorscale": [
             [
              0,
              "#0d0887"
             ],
             [
              0.1111111111111111,
              "#46039f"
             ],
             [
              0.2222222222222222,
              "#7201a8"
             ],
             [
              0.3333333333333333,
              "#9c179e"
             ],
             [
              0.4444444444444444,
              "#bd3786"
             ],
             [
              0.5555555555555556,
              "#d8576b"
             ],
             [
              0.6666666666666666,
              "#ed7953"
             ],
             [
              0.7777777777777778,
              "#fb9f3a"
             ],
             [
              0.8888888888888888,
              "#fdca26"
             ],
             [
              1,
              "#f0f921"
             ]
            ],
            "type": "surface"
           }
          ],
          "table": [
           {
            "cells": {
             "fill": {
              "color": "#EBF0F8"
             },
             "line": {
              "color": "white"
             }
            },
            "header": {
             "fill": {
              "color": "#C8D4E3"
             },
             "line": {
              "color": "white"
             }
            },
            "type": "table"
           }
          ]
         },
         "layout": {
          "annotationdefaults": {
           "arrowcolor": "#2a3f5f",
           "arrowhead": 0,
           "arrowwidth": 1
          },
          "autotypenumbers": "strict",
          "coloraxis": {
           "colorbar": {
            "outlinewidth": 0,
            "ticks": ""
           }
          },
          "colorscale": {
           "diverging": [
            [
             0,
             "#8e0152"
            ],
            [
             0.1,
             "#c51b7d"
            ],
            [
             0.2,
             "#de77ae"
            ],
            [
             0.3,
             "#f1b6da"
            ],
            [
             0.4,
             "#fde0ef"
            ],
            [
             0.5,
             "#f7f7f7"
            ],
            [
             0.6,
             "#e6f5d0"
            ],
            [
             0.7,
             "#b8e186"
            ],
            [
             0.8,
             "#7fbc41"
            ],
            [
             0.9,
             "#4d9221"
            ],
            [
             1,
             "#276419"
            ]
           ],
           "sequential": [
            [
             0,
             "#0d0887"
            ],
            [
             0.1111111111111111,
             "#46039f"
            ],
            [
             0.2222222222222222,
             "#7201a8"
            ],
            [
             0.3333333333333333,
             "#9c179e"
            ],
            [
             0.4444444444444444,
             "#bd3786"
            ],
            [
             0.5555555555555556,
             "#d8576b"
            ],
            [
             0.6666666666666666,
             "#ed7953"
            ],
            [
             0.7777777777777778,
             "#fb9f3a"
            ],
            [
             0.8888888888888888,
             "#fdca26"
            ],
            [
             1,
             "#f0f921"
            ]
           ],
           "sequentialminus": [
            [
             0,
             "#0d0887"
            ],
            [
             0.1111111111111111,
             "#46039f"
            ],
            [
             0.2222222222222222,
             "#7201a8"
            ],
            [
             0.3333333333333333,
             "#9c179e"
            ],
            [
             0.4444444444444444,
             "#bd3786"
            ],
            [
             0.5555555555555556,
             "#d8576b"
            ],
            [
             0.6666666666666666,
             "#ed7953"
            ],
            [
             0.7777777777777778,
             "#fb9f3a"
            ],
            [
             0.8888888888888888,
             "#fdca26"
            ],
            [
             1,
             "#f0f921"
            ]
           ]
          },
          "colorway": [
           "#636efa",
           "#EF553B",
           "#00cc96",
           "#ab63fa",
           "#FFA15A",
           "#19d3f3",
           "#FF6692",
           "#B6E880",
           "#FF97FF",
           "#FECB52"
          ],
          "font": {
           "color": "#2a3f5f"
          },
          "geo": {
           "bgcolor": "white",
           "lakecolor": "white",
           "landcolor": "#E5ECF6",
           "showlakes": true,
           "showland": true,
           "subunitcolor": "white"
          },
          "hoverlabel": {
           "align": "left"
          },
          "hovermode": "closest",
          "mapbox": {
           "style": "light"
          },
          "paper_bgcolor": "white",
          "plot_bgcolor": "#E5ECF6",
          "polar": {
           "angularaxis": {
            "gridcolor": "white",
            "linecolor": "white",
            "ticks": ""
           },
           "bgcolor": "#E5ECF6",
           "radialaxis": {
            "gridcolor": "white",
            "linecolor": "white",
            "ticks": ""
           }
          },
          "scene": {
           "xaxis": {
            "backgroundcolor": "#E5ECF6",
            "gridcolor": "white",
            "gridwidth": 2,
            "linecolor": "white",
            "showbackground": true,
            "ticks": "",
            "zerolinecolor": "white"
           },
           "yaxis": {
            "backgroundcolor": "#E5ECF6",
            "gridcolor": "white",
            "gridwidth": 2,
            "linecolor": "white",
            "showbackground": true,
            "ticks": "",
            "zerolinecolor": "white"
           },
           "zaxis": {
            "backgroundcolor": "#E5ECF6",
            "gridcolor": "white",
            "gridwidth": 2,
            "linecolor": "white",
            "showbackground": true,
            "ticks": "",
            "zerolinecolor": "white"
           }
          },
          "shapedefaults": {
           "line": {
            "color": "#2a3f5f"
           }
          },
          "ternary": {
           "aaxis": {
            "gridcolor": "white",
            "linecolor": "white",
            "ticks": ""
           },
           "baxis": {
            "gridcolor": "white",
            "linecolor": "white",
            "ticks": ""
           },
           "bgcolor": "#E5ECF6",
           "caxis": {
            "gridcolor": "white",
            "linecolor": "white",
            "ticks": ""
           }
          },
          "title": {
           "x": 0.05
          },
          "xaxis": {
           "automargin": true,
           "gridcolor": "white",
           "linecolor": "white",
           "ticks": "",
           "title": {
            "standoff": 15
           },
           "zerolinecolor": "white",
           "zerolinewidth": 2
          },
          "yaxis": {
           "automargin": true,
           "gridcolor": "white",
           "linecolor": "white",
           "ticks": "",
           "title": {
            "standoff": 15
           },
           "zerolinecolor": "white",
           "zerolinewidth": 2
          }
         }
        },
        "xaxis": {
         "anchor": "y",
         "domain": [
          0,
          1
         ],
         "range": [
          "2005-01-01",
          "2010-01-15"
         ],
         "title": {
          "text": "time"
         }
        },
        "yaxis": {
         "anchor": "x",
         "domain": [
          0,
          1
         ],
         "title": {
          "text": "ranking"
         }
        }
       }
      },
      "text/html": [
       "<div>                            <div id=\"06736cfb-88a2-47f9-b59d-9fd3032a251a\" class=\"plotly-graph-div\" style=\"height:525px; width:100%;\"></div>            <script type=\"text/javascript\">                require([\"plotly\"], function(Plotly) {                    window.PLOTLYENV=window.PLOTLYENV || {};                                    if (document.getElementById(\"06736cfb-88a2-47f9-b59d-9fd3032a251a\")) {                    Plotly.newPlot(                        \"06736cfb-88a2-47f9-b59d-9fd3032a251a\",                        [{\"hovertemplate\":\"time=%{x}<br>ranking=%{y}<extra></extra>\",\"legendgroup\":\"\",\"line\":{\"color\":\"#636efa\",\"dash\":\"solid\"},\"marker\":{\"symbol\":\"circle\"},\"mode\":\"lines\",\"name\":\"\",\"orientation\":\"v\",\"showlegend\":false,\"x\":[\"2006-09-20T00:00:00\",\"2006-08-18T00:00:00\",\"2006-08-23T00:00:00\",\"2006-08-24T00:00:00\",\"2006-08-27T00:00:00\",\"2006-09-08T00:00:00\",\"2006-09-18T00:00:00\",\"2006-09-27T00:00:00\",\"2006-09-28T00:00:00\",\"2006-09-30T00:00:00\",\"2006-10-04T00:00:00\",\"2006-10-05T00:00:00\",\"2006-10-10T00:00:00\",\"2006-10-13T00:00:00\",\"2006-10-14T00:00:00\",\"2006-10-16T00:00:00\",\"2006-10-17T00:00:00\",\"2006-10-18T00:00:00\",\"2006-10-19T00:00:00\",\"2006-08-22T00:00:00\",\"2006-08-17T00:00:00\",\"2006-10-21T00:00:00\",\"2006-08-16T00:00:00\",\"2004-10-25T00:00:00\",\"2004-10-27T00:00:00\",\"2005-06-09T00:00:00\",\"2005-06-10T00:00:00\",\"2005-07-09T00:00:00\",\"2005-07-16T00:00:00\",\"2005-07-18T00:00:00\",\"2005-08-24T00:00:00\",\"2005-09-21T00:00:00\",\"2005-10-02T00:00:00\",\"2005-10-15T00:00:00\",\"2005-10-20T00:00:00\",\"2006-07-31T00:00:00\",\"2006-08-07T00:00:00\",\"2006-08-09T00:00:00\",\"2006-08-10T00:00:00\",\"2006-08-15T00:00:00\",\"2006-10-20T00:00:00\",\"2006-10-23T00:00:00\",\"2017-08-29T00:00:00\",\"2013-07-09T00:00:00\",\"2013-07-27T00:00:00\",\"2013-08-12T00:00:00\",\"2013-08-19T00:00:00\",\"2013-08-20T00:00:00\",\"2013-08-21T00:00:00\",\"2013-08-22T00:00:00\",\"2013-08-23T00:00:00\",\"2013-08-25T00:00:00\",\"2013-08-26T00:00:00\",\"2013-08-27T00:00:00\",\"2013-08-28T00:00:00\",\"2013-08-29T00:00:00\",\"2013-09-01T00:00:00\",\"2013-09-03T00:00:00\",\"2013-09-10T00:00:00\",\"2013-09-11T00:00:00\",\"2013-09-12T00:00:00\",\"2013-07-18T00:00:00\",\"2013-07-04T00:00:00\",\"2006-10-24T00:00:00\",\"2013-07-03T00:00:00\",\"2006-10-26T00:00:00\",\"2006-10-27T00:00:00\",\"2006-10-28T00:00:00\",\"2006-10-29T00:00:00\",\"2006-10-30T00:00:00\",\"2006-10-31T00:00:00\",\"2006-11-01T00:00:00\",\"2006-11-02T00:00:00\",\"2006-11-03T00:00:00\",\"2006-11-04T00:00:00\",\"2006-11-06T00:00:00\",\"2006-11-10T00:00:00\",\"2007-04-28T00:00:00\",\"2013-06-28T00:00:00\",\"2013-06-29T00:00:00\",\"2013-07-01T00:00:00\",\"2013-07-02T00:00:00\",\"2004-10-22T00:00:00\",\"2004-10-21T00:00:00\",\"2004-10-13T00:00:00\",\"2002-10-10T00:00:00\",\"2003-06-18T00:00:00\",\"2003-07-03T00:00:00\",\"2003-07-04T00:00:00\",\"2003-07-29T00:00:00\",\"2013-06-15T00:00:00\",\"2013-06-22T00:00:00\",\"2013-06-24T00:00:00\",\"2013-06-25T00:00:00\",\"2013-06-26T00:00:00\",\"2013-06-27T00:00:00\",\"2003-08-03T00:00:00\",\"2003-08-05T00:00:00\",\"2003-08-14T00:00:00\",\"2003-08-15T00:00:00\",\"2003-08-18T00:00:00\",\"2003-08-19T00:00:00\",\"2003-09-13T00:00:00\",\"2002-10-12T00:00:00\",\"2002-10-09T00:00:00\",\"2004-10-12T00:00:00\",\"2002-10-08T00:00:00\",\"2017-12-01T00:00:00\",\"2018-05-13T00:00:00\",\"2018-05-18T00:00:00\",\"2018-05-19T00:00:00\",\"2018-05-22T00:00:00\",\"2018-05-26T00:00:00\",\"2018-06-12T00:00:00\",\"2018-06-13T00:00:00\",\"2018-07-06T00:00:00\",\"2018-07-07T00:00:00\",\"2013-06-08T00:00:00\",\"2013-06-13T00:00:00\",\"2013-06-14T00:00:00\",\"2002-07-19T00:00:00\",\"2002-07-29T00:00:00\",\"2002-08-18T00:00:00\",\"2002-09-22T00:00:00\",\"2003-09-14T00:00:00\",\"2003-09-16T00:00:00\",\"2004-06-04T00:00:00\",\"2004-06-08T00:00:00\",\"2004-09-10T00:00:00\",\"2004-09-12T00:00:00\",\"2004-09-13T00:00:00\",\"2004-09-14T00:00:00\",\"2004-09-15T00:00:00\",\"2004-09-16T00:00:00\",\"2004-09-17T00:00:00\",\"2004-09-18T00:00:00\",\"2004-09-20T00:00:00\",\"2004-09-23T00:00:00\",\"2004-09-29T00:00:00\",\"2004-09-30T00:00:00\",\"2004-10-01T00:00:00\",\"2004-10-02T00:00:00\",\"2004-10-06T00:00:00\",\"2004-10-08T00:00:00\",\"2004-10-11T00:00:00\",\"2004-09-06T00:00:00\",\"2004-09-05T00:00:00\",\"2004-09-03T00:00:00\",\"2004-07-16T00:00:00\",\"2004-06-09T00:00:00\",\"2004-06-16T00:00:00\",\"2004-06-29T00:00:00\",\"2004-07-01T00:00:00\",\"2004-07-02T00:00:00\",\"2004-07-03T00:00:00\",\"2004-07-06T00:00:00\",\"2004-08-01T00:00:00\",\"2004-08-30T00:00:00\",\"2004-08-07T00:00:00\",\"2004-08-15T00:00:00\",\"2004-08-18T00:00:00\",\"2004-08-25T00:00:00\",\"2004-08-27T00:00:00\",\"2004-08-28T00:00:00\",\"2004-08-29T00:00:00\",\"2013-09-13T00:00:00\",\"2014-04-29T00:00:00\",\"2014-05-01T00:00:00\",\"2019-06-16T00:00:00\",\"2019-07-21T00:00:00\",\"2019-07-23T00:00:00\",\"2019-07-24T00:00:00\",\"2019-07-25T00:00:00\",\"2019-07-26T00:00:00\",\"2019-07-28T00:00:00\",\"2019-08-03T00:00:00\",\"2019-08-04T00:00:00\",\"2019-08-08T00:00:00\",\"2019-08-10T00:00:00\",\"2019-08-11T00:00:00\",\"2019-08-12T00:00:00\",\"2019-08-13T00:00:00\",\"2019-08-15T00:00:00\",\"2019-08-17T00:00:00\",\"2019-08-18T00:00:00\",\"2019-08-19T00:00:00\",\"2019-06-19T00:00:00\",\"2019-06-14T00:00:00\",\"2018-09-13T00:00:00\",\"2008-08-22T00:00:00\",\"2018-09-17T00:00:00\",\"2018-09-18T00:00:00\",\"2018-09-19T00:00:00\",\"2018-09-20T00:00:00\",\"2018-09-22T00:00:00\",\"2018-10-01T00:00:00\",\"2018-10-02T00:00:00\",\"2018-10-03T00:00:00\",\"2018-10-14T00:00:00\",\"2018-10-16T00:00:00\",\"2019-05-27T00:00:00\",\"2007-10-28T00:00:00\",\"2008-06-09T00:00:00\",\"2008-08-05T00:00:00\",\"2008-08-07T00:00:00\",\"2008-08-13T00:00:00\",\"2008-08-14T00:00:00\",\"2019-08-20T00:00:00\",\"2019-08-21T00:00:00\",\"2019-08-22T00:00:00\",\"2019-09-03T00:00:00\",\"2020-07-30T00:00:00\",\"2020-08-28T00:00:00\",\"2020-09-02T00:00:00\",\"2020-09-13T00:00:00\",\"2020-09-28T00:00:00\",\"2020-09-29T00:00:00\",\"2020-10-06T00:00:00\",\"2020-10-09T00:00:00\",\"2020-10-11T00:00:00\",\"2020-10-31T00:00:00\",\"2011-07-05T00:00:00\",\"2011-07-13T00:00:00\",\"2011-07-19T00:00:00\",\"2011-07-21T00:00:00\",\"2011-07-22T00:00:00\",\"2011-07-24T00:00:00\",\"2011-07-25T00:00:00\",\"2020-07-23T00:00:00\",\"2020-07-20T00:00:00\",\"2020-07-18T00:00:00\",\"2020-06-20T00:00:00\",\"2019-09-05T00:00:00\",\"2019-09-06T00:00:00\",\"2019-09-15T00:00:00\",\"2019-10-07T00:00:00\",\"2019-10-20T00:00:00\",\"2019-10-22T00:00:00\",\"2019-10-23T00:00:00\",\"2020-06-21T00:00:00\",\"2020-07-17T00:00:00\",\"2020-06-27T00:00:00\",\"2020-06-28T00:00:00\",\"2020-06-29T00:00:00\",\"2020-07-04T00:00:00\",\"2020-07-07T00:00:00\",\"2020-07-11T00:00:00\",\"2020-07-16T00:00:00\",\"2018-09-15T00:00:00\",\"2018-09-10T00:00:00\",\"2014-05-02T00:00:00\",\"2007-07-11T00:00:00\",\"2014-05-15T00:00:00\",\"2007-07-12T00:00:00\",\"2007-07-13T00:00:00\",\"2007-07-17T00:00:00\",\"2007-07-19T00:00:00\",\"2007-07-20T00:00:00\",\"2007-07-21T00:00:00\",\"2007-07-23T00:00:00\",\"2007-07-24T00:00:00\",\"2007-07-31T00:00:00\",\"2014-06-02T00:00:00\",\"2007-08-01T00:00:00\",\"2007-08-02T00:00:00\",\"2007-08-10T00:00:00\",\"2007-08-11T00:00:00\",\"2007-08-12T00:00:00\",\"2007-08-18T00:00:00\",\"2014-05-14T00:00:00\",\"2007-07-10T00:00:00\",\"2018-09-08T00:00:00\",\"2007-07-08T00:00:00\",\"2007-05-01T00:00:00\",\"2007-06-01T00:00:00\",\"2007-06-16T00:00:00\",\"2007-06-20T00:00:00\",\"2014-05-03T00:00:00\",\"2014-05-05T00:00:00\",\"2014-05-07T00:00:00\",\"2014-05-08T00:00:00\",\"2014-05-09T00:00:00\",\"2014-05-11T00:00:00\",\"2007-06-22T00:00:00\",\"2007-07-02T00:00:00\",\"2007-07-05T00:00:00\",\"2007-07-06T00:00:00\",\"2014-05-12T00:00:00\",\"2014-05-13T00:00:00\",\"2007-07-07T00:00:00\",\"2007-09-12T00:00:00\",\"2007-09-13T00:00:00\",\"2007-09-14T00:00:00\",\"2007-09-15T00:00:00\",\"2018-07-16T00:00:00\",\"2018-07-17T00:00:00\",\"2018-07-22T00:00:00\",\"2018-07-23T00:00:00\",\"2018-07-27T00:00:00\",\"2018-07-28T00:00:00\",\"2018-07-29T00:00:00\",\"2018-07-30T00:00:00\",\"2018-08-14T00:00:00\",\"2018-08-21T00:00:00\",\"2018-09-02T00:00:00\",\"2018-09-03T00:00:00\",\"2007-09-27T00:00:00\",\"2007-09-29T00:00:00\",\"2018-09-05T00:00:00\",\"2018-09-06T00:00:00\",\"2018-09-07T00:00:00\",\"2018-07-14T00:00:00\",\"2018-07-10T00:00:00\",\"2018-07-09T00:00:00\",\"2014-06-19T00:00:00\",\"2007-09-17T00:00:00\",\"2007-09-18T00:00:00\",\"2007-09-19T00:00:00\",\"2014-06-03T00:00:00\",\"2014-06-04T00:00:00\",\"2014-06-05T00:00:00\",\"2014-06-18T00:00:00\",\"2014-06-20T00:00:00\",\"2018-07-08T00:00:00\",\"2014-06-21T00:00:00\",\"2014-06-22T00:00:00\",\"2007-09-20T00:00:00\",\"2007-09-23T00:00:00\",\"2007-09-24T00:00:00\",\"2014-06-23T00:00:00\",\"2014-07-28T00:00:00\",\"2017-08-30T00:00:00\",\"2018-07-04T00:00:00\",\"2017-08-19T00:00:00\",\"2015-07-07T00:00:00\",\"2015-10-18T00:00:00\",\"2015-09-25T00:00:00\",\"2015-09-17T00:00:00\",\"2015-09-07T00:00:00\",\"2017-08-18T00:00:00\",\"2015-08-09T00:00:00\",\"2015-08-08T00:00:00\",\"2015-08-03T00:00:00\",\"2015-08-02T00:00:00\",\"2015-07-16T00:00:00\",\"2015-07-15T00:00:00\",\"2015-07-12T00:00:00\",\"2015-07-08T00:00:00\",\"2012-08-08T00:00:00\",\"2016-08-08T00:00:00\",\"2015-07-06T00:00:00\",\"2012-07-29T00:00:00\",\"2012-07-28T00:00:00\",\"2012-07-27T00:00:00\",\"2012-07-14T00:00:00\",\"2012-07-10T00:00:00\",\"2012-07-08T00:00:00\",\"2012-07-05T00:00:00\",\"2012-07-03T00:00:00\",\"2012-06-28T00:00:00\",\"2015-07-05T00:00:00\",\"2012-06-27T00:00:00\",\"2012-06-26T00:00:00\",\"2016-08-07T00:00:00\",\"2016-08-09T00:00:00\",\"2015-07-02T00:00:00\",\"2016-08-12T00:00:00\",\"2016-08-21T00:00:00\",\"2016-08-19T00:00:00\",\"2016-08-18T00:00:00\",\"2016-08-15T00:00:00\",\"2016-08-14T00:00:00\",\"2016-08-13T00:00:00\",\"2012-08-11T00:00:00\",\"2012-08-10T00:00:00\",\"2012-08-09T00:00:00\",\"2010-09-02T00:00:00\",\"2010-09-06T00:00:00\",\"2010-09-11T00:00:00\",\"2010-10-20T00:00:00\",\"2010-10-21T00:00:00\",\"2016-08-10T00:00:00\",\"2011-05-25T00:00:00\",\"2011-05-27T00:00:00\",\"2011-05-30T00:00:00\",\"2011-06-01T00:00:00\",\"2011-06-03T00:00:00\",\"2011-06-04T00:00:00\",\"2011-06-07T00:00:00\",\"2011-06-10T00:00:00\",\"2011-06-11T00:00:00\",\"2011-06-13T00:00:00\",\"2011-06-15T00:00:00\",\"2001-07-12T00:00:00\",\"2016-08-11T00:00:00\",\"2015-07-03T00:00:00\",\"2015-07-01T00:00:00\",\"2016-08-24T00:00:00\",\"2011-06-21T00:00:00\",\"2011-10-21T00:00:00\",\"2011-09-23T00:00:00\",\"2011-08-22T00:00:00\",\"2011-08-21T00:00:00\",\"2011-08-20T00:00:00\",\"2011-08-18T00:00:00\",\"2011-08-13T00:00:00\",\"2011-08-11T00:00:00\",\"2011-08-10T00:00:00\",\"2011-08-09T00:00:00\",\"2011-08-08T00:00:00\",\"2011-08-07T00:00:00\",\"2014-10-08T00:00:00\",\"2011-06-24T00:00:00\",\"2011-10-27T00:00:00\",\"2014-10-06T00:00:00\",\"2014-09-20T00:00:00\",\"2011-06-27T00:00:00\",\"2011-06-29T00:00:00\",\"2011-06-30T00:00:00\",\"2011-07-01T00:00:00\",\"2011-07-03T00:00:00\",\"2014-09-19T00:00:00\",\"2014-09-16T00:00:00\",\"2014-08-28T00:00:00\",\"2014-08-27T00:00:00\",\"2014-08-03T00:00:00\",\"2014-08-01T00:00:00\",\"2011-10-24T00:00:00\",\"2012-05-20T00:00:00\",\"2015-06-30T00:00:00\",\"2014-10-18T00:00:00\",\"2015-06-29T00:00:00\",\"2015-05-10T00:00:00\",\"2015-05-09T00:00:00\",\"2015-05-07T00:00:00\",\"2015-05-03T00:00:00\",\"2015-05-02T00:00:00\",\"2015-04-30T00:00:00\",\"2015-04-29T00:00:00\",\"2014-10-24T00:00:00\",\"2014-10-22T00:00:00\",\"2014-10-21T00:00:00\",\"2014-10-20T00:00:00\",\"2014-10-19T00:00:00\",\"2014-10-17T00:00:00\",\"2012-06-15T00:00:00\",\"2014-10-15T00:00:00\",\"2014-10-14T00:00:00\",\"2014-10-13T00:00:00\",\"2012-06-24T00:00:00\",\"2012-06-23T00:00:00\",\"2012-06-22T00:00:00\",\"2012-06-21T00:00:00\",\"2012-06-19T00:00:00\",\"2012-06-17T00:00:00\",\"2014-10-12T00:00:00\",\"2014-10-11T00:00:00\",\"2014-10-10T00:00:00\",\"2014-10-09T00:00:00\",\"2016-08-22T00:00:00\",\"2015-08-11T00:00:00\",\"2016-08-25T00:00:00\",\"2012-09-28T00:00:00\",\"2009-06-11T00:00:00\",\"2009-06-12T00:00:00\",\"2009-06-16T00:00:00\",\"2009-06-17T00:00:00\",\"2009-06-18T00:00:00\",\"2009-06-24T00:00:00\",\"2009-06-25T00:00:00\",\"2009-06-27T00:00:00\",\"2009-06-29T00:00:00\",\"2009-06-30T00:00:00\",\"2013-06-06T00:00:00\",\"2012-10-15T00:00:00\",\"2012-10-12T00:00:00\",\"2009-07-11T00:00:00\",\"2017-07-20T00:00:00\",\"2009-08-03T00:00:00\",\"2009-08-08T00:00:00\",\"2009-08-12T00:00:00\",\"2009-08-15T00:00:00\",\"2009-08-17T00:00:00\",\"2009-09-02T00:00:00\",\"2009-09-06T00:00:00\",\"2009-09-07T00:00:00\",\"2009-10-10T00:00:00\",\"2012-09-27T00:00:00\",\"2012-09-26T00:00:00\",\"2012-09-25T00:00:00\",\"2017-07-25T00:00:00\",\"2009-06-08T00:00:00\",\"2009-06-02T00:00:00\",\"2008-11-05T00:00:00\",\"2008-11-04T00:00:00\",\"2017-08-09T00:00:00\",\"2017-07-31T00:00:00\",\"2017-07-30T00:00:00\",\"2008-08-29T00:00:00\",\"2008-09-01T00:00:00\",\"2008-09-04T00:00:00\",\"2008-09-05T00:00:00\",\"2011-07-26T00:00:00\",\"2011-07-28T00:00:00\",\"2001-10-15T00:00:00\",\"2001-10-09T00:00:00\",\"2001-10-07T00:00:00\",\"2001-10-04T00:00:00\",\"2001-07-21T00:00:00\",\"2016-08-26T00:00:00\",\"2008-09-20T00:00:00\",\"2008-09-21T00:00:00\",\"2008-09-28T00:00:00\",\"2011-07-29T00:00:00\",\"2011-07-30T00:00:00\",\"2011-07-31T00:00:00\",\"2011-08-01T00:00:00\",\"2011-08-02T00:00:00\",\"2011-08-04T00:00:00\",\"2011-08-05T00:00:00\",\"2011-08-06T00:00:00\",\"2008-10-30T00:00:00\",\"2017-07-24T00:00:00\",\"2008-09-08T00:00:00\",\"2017-07-08T00:00:00\",\"2010-07-09T00:00:00\",\"2010-07-28T00:00:00\",\"2010-07-30T00:00:00\",\"2012-09-04T00:00:00\",\"2012-09-03T00:00:00\",\"2012-09-02T00:00:00\",\"2010-08-22T00:00:00\",\"2010-08-23T00:00:00\",\"2017-06-20T00:00:00\",\"2017-06-19T00:00:00\",\"2016-09-29T00:00:00\",\"2016-09-14T00:00:00\",\"2016-09-13T00:00:00\",\"2016-09-11T00:00:00\",\"2016-09-09T00:00:00\",\"2010-08-25T00:00:00\",\"2016-09-08T00:00:00\",\"2016-09-07T00:00:00\",\"2016-09-04T00:00:00\",\"2016-08-31T00:00:00\",\"2010-07-11T00:00:00\",\"2012-08-25T00:00:00\",\"2010-07-07T00:00:00\",\"2012-09-09T00:00:00\",\"2017-06-21T00:00:00\",\"2009-10-11T00:00:00\",\"2009-10-12T00:00:00\",\"2009-10-13T00:00:00\",\"2009-10-15T00:00:00\",\"2009-10-20T00:00:00\",\"2010-06-30T00:00:00\",\"2012-09-12T00:00:00\",\"2016-08-29T00:00:00\",\"2012-08-15T00:00:00\",\"2012-08-22T00:00:00\",\"2012-09-14T00:00:00\",\"2010-06-25T00:00:00\",\"2010-06-28T00:00:00\",\"2012-09-08T00:00:00\",\"2012-09-07T00:00:00\",\"2009-11-02T00:00:00\"],\"xaxis\":\"x\",\"y\":[0.2161500582128651,0.3349999045955822,0.2670742149348339,0.33606552019663,0.3804685860741891,0.3427613660618997,0.3497724701659067,0.2938791791986029,0.3112634762782574,0.3354518611946573,0.2835206962905469,0.2323323986934446,0.4932546198376508,0.3462284563888619,0.3705945457779502,0.3701235212315256,0.3624978606772097,0.2741363409980272,0.349785099123573,0.2764925681575628,0.2691813767342582,0.403956189967983,0.289898882636396,0.2878573364380195,0.238122711102487,0.4205463568448627,0.317071988292746,0.3113836615892111,0.2974695498205103,0.2951383558099673,0.2881043287733255,0.2447821286504317,0.3018259888101937,0.2854983134439378,0.2152809530739627,0.3515975906341968,0.3603269816629475,0.275469250671065,0.4169352155493031,0.4314969551437534,0.2714535477507196,0.3714085120144886,0.2572007810226059,0.364294641182368,0.3151512920021991,0.3517851654215581,0.3337085702273536,0.3539421444972673,0.3426942175220723,0.3303919617735519,0.3493965977814431,0.4489711619934673,0.272952343067818,0.2947545406034734,0.2825582710779082,0.3142364283173248,0.3450358882312991,0.4261160602826558,0.2452666957730992,0.308145874971702,0.3353958458652696,0.2969259305973286,0.275185435464571,0.3695357346140164,0.2630675059021377,0.4130691843730798,0.3836600740597005,0.2219622715953559,0.3581518903010899,0.4072261052359238,0.4102900051744769,0.3757090149089615,0.2954983716568028,0.2998657029203455,0.3803360046570291,0.3547056498819573,0.2812558034992399,0.3033503282558779,0.3270787846447398,0.1821443129264901,0.3510595048672424,0.3935931211797808,0.35565580349924,0.2587179295624333,0.4288714692280327,0.3516541460496103,0.1788020148119401,0.40495010834061,0.2708925681575628,0.4148246887228745,0.3465202726302513,0.2806413343682287,0.2817540296238802,0.3178712945894376,0.2773311649041104,0.3315780327285663,0.0408457795672843,0.2182996054461369,0.4862779211539084,0.2696553216260793,0.3918713528023027,0.2957806539245173,0.2427052925196468,0.3560682578183112,0.2986147391740241,0.3663779745157013,0.3774605559328611,0.17864241454028,0.3492736295721355,0.4021607596778888,0.3406283981759969,0.3232224410594742,0.34603269784289,0.3853332670353481,0.3226020439183726,0.3204863701044597,0.3629688270107694,0.3113281572394165,0.3325766534070696,0.2713928382005756,0.220987333850781,0.3141538469001649,0.3371772517059604,0.2085119724459105,0.2162938601597619,0.3804325151191747,0.3271254196177355,0.3268605268264287,0.384667746838718,0.4312899760680444,0.3391336906956437,0.462407752013195,0.3638436774360468,0.446520256460011,0.2888871220206332,0.2933901296853271,0.2188990362536787,0.4463309449888426,0.4375163303256686,0.4043618770414929,0.3168856181882862,0.4036440639047896,0.3556687396914718,0.3721598250380001,0.3711576064810323,0.2797485834869506,0.3028127825749491,0.3339501164257301,0.2469622133824908,0.3057801720513566,0.3426971669739013,0.3187852818472882,0.2764318877138514,0.2992483134439377,0.4088480353158048,0.2364990362536787,0.3502245140842793,0.3545268571520972,0.3109766534070696,0.3032371802334982,0.3258639872578506,0.3978112415510495,0.3739667830923968,0.3651233676142428,0.4261329015879176,0.3023471669739012,0.3445533941334368,0.3681502991494454,0.162800781022606,0.3511146437696064,0.3006209663335598,0.3327698489699556,0.2108861000614469,0.2697553798389444,0.321249335403124,0.2910098040166877,0.2506423563274151,0.3394555625626597,0.3544280327285663,0.3369846835483976,0.2409423272209825,0.3383269525565149,0.1897216891433007,0.357138954108858,0.3900965023770253,0.2967497881698522,0.3655495682545843,0.3861507147246208,0.2189788800491575,0.0889808657546651,0.3497135344911226,0.3558563144788331,0.2754033068141393,0.3023317340965686,0.2265127534685165,0.3274276462598234,0.2636256896607484,0.3074793910287506,0.4353656285372401,0.291753846900165,0.3015858591248666,0.2522249959574399,0.3978534523463019,0.3033021021312376,0.1737505691924581,0.2792117315093302,0.2903592930370945,0.2880612496361696,0.2907582710779082,0.3500120597652081,0.3683889250024255,0.3516558034992399,0.3223189515216196,0.2491687105850393,0.1789443129264901,0.3734969260373209,0.2963458458652696,0.3696374211700786,0.2088289091555901,0.3483582710779082,0.3269119724459106,0.3039537886872999,0.318357760098315,0.2245313767342583,0.3546087820575014,0.2764025840043984,0.3296869684033504,0.3772793829436305,0.344791633517674,0.2525055043497946,0.3250759597037612,0.3286948821189482,0.3253474079104815,0.338750839235471,0.3384548397529187,0.2473582710779082,0.264473163869215,0.3427252077875878,0.3388234630186605,0.3374153083664823,0.4061793829436305,0.358601620258077,0.2913786973254422,0.3670822450761618,0.2410843552925196,0.3246428673070081,0.3701742731476989,0.3273816758837036,0.270221930079881,0.3140062853724005,0.3073518029817922,0.358360825975874,0.281026952556515,0.3259647682804567,0.2612839025257916,0.2851878448303742,0.326687392063646,0.2723936192231816,0.3043218346754632,0.2010182869247437,0.2216594757608098,0.1763308657546651,0.3143045114970408,0.2395998172762847,0.2412137172148378,0.3402758060864784,0.3953970796546037,0.2669249086381423,0.2308137172148378,0.2863090812069467,0.2430774053232431,0.2164990362536787,0.3239503573623104,0.3335306539245173,0.3053430791371559,0.3739111251253194,0.2711045114970408,0.3229898887487468,0.1420405824520552,0.3046690097344846,0.3613786973254422,0.3561135344911225,0.2419194625012128,0.2627567381391287,0.2990025257915332,0.4344171614760196,0.3443227402089195,0.3139130235115293,0.3421679877752983,0.3890547152420685,0.1981997881698522,0.3889878949581191,0.3718439474790596,0.2436903706219075,0.295021930079881,0.2342410934316484,0.3719777917919861,0.3852583875036383,0.2073734339122279,0.3790593803563921,0.3718451812683937,0.221559986740403,0.1539065554154134,0.2050390786197083,0.3275781863458491,0.3614969260373209,0.2592403415154749,0.3445075482681673,0.4477757980013583,0.3315572782251544,0.2826809239675301,0.2256699443743734,0.463220921056887,0.368053963325895,0.3614951230555286,0.3426891950454384,0.4099644238543385,0.3239158193460755,0.3531911225380809,0.3397595921865399,0.235345093949096,0.3068266534070696,0.2752040296238802,0.1615793910287506,0.3068814349471233,0.3937597959315675,0.2962444002457876,0.3879060363507002,0.3738267989392322,0.3020018611946573,0.2754537886872999,0.3389398887487468,0.3256028831538436,0.3231031240904239,0.2549689515216196,0.3741088111639339,0.3353764415769218,0.4090564891174283,0.2644343552925196,0.2073463277384302,0.2647318877138514,0.3048018029817924,0.3196289964748876,0.3913075612043595,0.3466078183111801,0.349489676918599,0.2923433782866013,0.339442356327415,0.3609175350085703,0.3787975906341969,0.3422973496976165,0.3020709663335597,0.2988666957730991,0.2592948821189483,0.2360012628957666,0.3719490944665438,0.2902120597652081,0.3151642281944309,0.2923027958345461,0.2467813767342583,0.2909119724459105,0.1136376038937938,0.3521505691924583,0.3149449985446784,0.0391252660004527,0.3419647682804567,0.3781486999126807,0.1836045114970408,0.2245550515830665,0.3483598913359852,0.3121184987548915,0.2112145564503089,0.3209113369554671,0.3132968387180234,0.4830761553636687,0.1966866110410401,0.3898514957472269,0.4328528540474112,0.4378186653083665,0.2815627825749491,0.393562388021086,0.3740028249409786,0.3336664839429514,0.3398311649041104,0.2902527667281136,0.3525385304485625,0.3466404288347725,0.2990219300798809,0.3277902752174897,0.3379963568448628,0.1908343552925196,0.3212486416998156,0.2914562853724006,0.2459286682190097,0.3657817923094338,0.3313948821189482,0.2659598040166877,0.2876087529510689,0.353160884188739,0.3150657029203454,0.2648194333947802,0.3620318214158662,0.3732757478736134,0.3151512920021991,0.1805363409980272,0.2290132062352446,0.2967383558099673,0.3959948740338282,0.3262184987548915,0.2920120306587756,0.374418133307461,0.377010825975874,0.350002284854953,0.3546956631415542,0.3229378448303742,0.3432159729633582,0.3083360046570292,0.1777090229940817,0.2545371220206332,0.2963431082435885,0.3270627825749491,0.3215649138126192,0.3368981307202225,0.431841625432554,0.4285410190485431,0.2805766534070696,0.2866719591863135,0.1231497881698522,0.3650874793829436,0.3043113078490346,0.3979566346495909,0.3633108550823065,0.3254387131722777,0.2750074900553022,0.3394562853724006,0.254258541120921,0.2932836324827786,0.2558262006403415,0.2725856764011513,0.3957598331231202,0.2527100158468355,0.4059153665793474,0.3381053507325118,0.3364485171889654,0.3856297192846286,0.4283533278354516,0.3684731266776625,0.4068940347983571,0.4068132272565571,0.4108403334303548,0.308035435464571,0.3432183160311762,0.3731516202580771,0.3944309530739627,0.4071070955014392,0.3879573946508844,0.3828943711393551,0.3694307412438149,0.3691519776203875,0.301624667701562,0.1452201853109537,0.3534432246693186,0.3452774344296757,0.334526229746774,0.1847036059635846,0.4144849244849778,0.3432609132951715,0.4144952976941237,0.3626599786552829,0.3112726819960544,0.3227570081821416,0.3525045406034734,0.15894431292649,0.3095254196177355,0.3887499337020149,0.3679325733320397,0.186949277190259,0.2270851072086931,0.2089022848549529,0.378943976585492,0.267183931632224,0.3552106141457262,0.2943398887487468,0.2825582710779082,0.290857365544452,0.3289581174606254,0.2910592348242295,0.4102231557840949,0.3313388667895605,0.3248326396300249,0.3253984589761004,0.3566696080333754,0.3671318877138514,0.3915829598007827,0.4395943840755473,0.3257152210471847,0.3043647391740241,0.3592029995795738,0.1747438019468969,0.3460774344296756,0.3388018611946574,0.3390478024643446,0.2766672067526923,0.3730981307202224,0.2539971087610362,0.4217264706833544,0.3660402461110572,0.2998659729633582,0.3473846835483976,0.3614563435852656,0.2465496054461369,0.1828266534070697,0.118750561107338,0.3354035477507196,0.3522503573623103,0.3092127534685165,0.3064255360434656,0.3563508101290386,0.3044419326671194,0.292857365544452,0.2806644691310113,0.2923438019468969,0.325038114873387,0.2502475615277643,0.2984520439183726,0.3474408524950682,0.3540610378060219,0.1789169367096795,0.3847648555997542,0.3390436774360467,0.3027595048672424,0.322170031693671,0.4663635684486272,0.2529259305973286,0.3265705135668316,0.2983883558099673,0.2819289382620226,0.2502201853109537,0.2770778871964037,0.3784475534426442,0.2875027958345461,0.3161354645710035,0.2659351363151256,0.2942191924581999,0.3766374502765111,0.3430739739982536,0.3313906115584877,0.3962928673070082,0.2107696743313605,0.3504289673684551,0.2740363992108923,0.3561218055690308,0.3256794201351832,0.3191451230555286,0.3392159729633582,0.2885637172148378,0.263509263930662,0.2663013502150642,0.3766571246078717,0.3309898596423143,0.25508661104104,0.3211157320267779,0.3751105559328611,0.3182424436467126,0.4239403997283399,0.2491329096730377],\"yaxis\":\"y\",\"type\":\"scatter\"}],                        {\"template\":{\"data\":{\"bar\":[{\"error_x\":{\"color\":\"#2a3f5f\"},\"error_y\":{\"color\":\"#2a3f5f\"},\"marker\":{\"line\":{\"color\":\"#E5ECF6\",\"width\":0.5},\"pattern\":{\"fillmode\":\"overlay\",\"size\":10,\"solidity\":0.2}},\"type\":\"bar\"}],\"barpolar\":[{\"marker\":{\"line\":{\"color\":\"#E5ECF6\",\"width\":0.5},\"pattern\":{\"fillmode\":\"overlay\",\"size\":10,\"solidity\":0.2}},\"type\":\"barpolar\"}],\"carpet\":[{\"aaxis\":{\"endlinecolor\":\"#2a3f5f\",\"gridcolor\":\"white\",\"linecolor\":\"white\",\"minorgridcolor\":\"white\",\"startlinecolor\":\"#2a3f5f\"},\"baxis\":{\"endlinecolor\":\"#2a3f5f\",\"gridcolor\":\"white\",\"linecolor\":\"white\",\"minorgridcolor\":\"white\",\"startlinecolor\":\"#2a3f5f\"},\"type\":\"carpet\"}],\"choropleth\":[{\"colorbar\":{\"outlinewidth\":0,\"ticks\":\"\"},\"type\":\"choropleth\"}],\"contour\":[{\"colorbar\":{\"outlinewidth\":0,\"ticks\":\"\"},\"colorscale\":[[0.0,\"#0d0887\"],[0.1111111111111111,\"#46039f\"],[0.2222222222222222,\"#7201a8\"],[0.3333333333333333,\"#9c179e\"],[0.4444444444444444,\"#bd3786\"],[0.5555555555555556,\"#d8576b\"],[0.6666666666666666,\"#ed7953\"],[0.7777777777777778,\"#fb9f3a\"],[0.8888888888888888,\"#fdca26\"],[1.0,\"#f0f921\"]],\"type\":\"contour\"}],\"contourcarpet\":[{\"colorbar\":{\"outlinewidth\":0,\"ticks\":\"\"},\"type\":\"contourcarpet\"}],\"heatmap\":[{\"colorbar\":{\"outlinewidth\":0,\"ticks\":\"\"},\"colorscale\":[[0.0,\"#0d0887\"],[0.1111111111111111,\"#46039f\"],[0.2222222222222222,\"#7201a8\"],[0.3333333333333333,\"#9c179e\"],[0.4444444444444444,\"#bd3786\"],[0.5555555555555556,\"#d8576b\"],[0.6666666666666666,\"#ed7953\"],[0.7777777777777778,\"#fb9f3a\"],[0.8888888888888888,\"#fdca26\"],[1.0,\"#f0f921\"]],\"type\":\"heatmap\"}],\"heatmapgl\":[{\"colorbar\":{\"outlinewidth\":0,\"ticks\":\"\"},\"colorscale\":[[0.0,\"#0d0887\"],[0.1111111111111111,\"#46039f\"],[0.2222222222222222,\"#7201a8\"],[0.3333333333333333,\"#9c179e\"],[0.4444444444444444,\"#bd3786\"],[0.5555555555555556,\"#d8576b\"],[0.6666666666666666,\"#ed7953\"],[0.7777777777777778,\"#fb9f3a\"],[0.8888888888888888,\"#fdca26\"],[1.0,\"#f0f921\"]],\"type\":\"heatmapgl\"}],\"histogram\":[{\"marker\":{\"pattern\":{\"fillmode\":\"overlay\",\"size\":10,\"solidity\":0.2}},\"type\":\"histogram\"}],\"histogram2d\":[{\"colorbar\":{\"outlinewidth\":0,\"ticks\":\"\"},\"colorscale\":[[0.0,\"#0d0887\"],[0.1111111111111111,\"#46039f\"],[0.2222222222222222,\"#7201a8\"],[0.3333333333333333,\"#9c179e\"],[0.4444444444444444,\"#bd3786\"],[0.5555555555555556,\"#d8576b\"],[0.6666666666666666,\"#ed7953\"],[0.7777777777777778,\"#fb9f3a\"],[0.8888888888888888,\"#fdca26\"],[1.0,\"#f0f921\"]],\"type\":\"histogram2d\"}],\"histogram2dcontour\":[{\"colorbar\":{\"outlinewidth\":0,\"ticks\":\"\"},\"colorscale\":[[0.0,\"#0d0887\"],[0.1111111111111111,\"#46039f\"],[0.2222222222222222,\"#7201a8\"],[0.3333333333333333,\"#9c179e\"],[0.4444444444444444,\"#bd3786\"],[0.5555555555555556,\"#d8576b\"],[0.6666666666666666,\"#ed7953\"],[0.7777777777777778,\"#fb9f3a\"],[0.8888888888888888,\"#fdca26\"],[1.0,\"#f0f921\"]],\"type\":\"histogram2dcontour\"}],\"mesh3d\":[{\"colorbar\":{\"outlinewidth\":0,\"ticks\":\"\"},\"type\":\"mesh3d\"}],\"parcoords\":[{\"line\":{\"colorbar\":{\"outlinewidth\":0,\"ticks\":\"\"}},\"type\":\"parcoords\"}],\"pie\":[{\"automargin\":true,\"type\":\"pie\"}],\"scatter\":[{\"marker\":{\"colorbar\":{\"outlinewidth\":0,\"ticks\":\"\"}},\"type\":\"scatter\"}],\"scatter3d\":[{\"line\":{\"colorbar\":{\"outlinewidth\":0,\"ticks\":\"\"}},\"marker\":{\"colorbar\":{\"outlinewidth\":0,\"ticks\":\"\"}},\"type\":\"scatter3d\"}],\"scattercarpet\":[{\"marker\":{\"colorbar\":{\"outlinewidth\":0,\"ticks\":\"\"}},\"type\":\"scattercarpet\"}],\"scattergeo\":[{\"marker\":{\"colorbar\":{\"outlinewidth\":0,\"ticks\":\"\"}},\"type\":\"scattergeo\"}],\"scattergl\":[{\"marker\":{\"colorbar\":{\"outlinewidth\":0,\"ticks\":\"\"}},\"type\":\"scattergl\"}],\"scattermapbox\":[{\"marker\":{\"colorbar\":{\"outlinewidth\":0,\"ticks\":\"\"}},\"type\":\"scattermapbox\"}],\"scatterpolar\":[{\"marker\":{\"colorbar\":{\"outlinewidth\":0,\"ticks\":\"\"}},\"type\":\"scatterpolar\"}],\"scatterpolargl\":[{\"marker\":{\"colorbar\":{\"outlinewidth\":0,\"ticks\":\"\"}},\"type\":\"scatterpolargl\"}],\"scatterternary\":[{\"marker\":{\"colorbar\":{\"outlinewidth\":0,\"ticks\":\"\"}},\"type\":\"scatterternary\"}],\"surface\":[{\"colorbar\":{\"outlinewidth\":0,\"ticks\":\"\"},\"colorscale\":[[0.0,\"#0d0887\"],[0.1111111111111111,\"#46039f\"],[0.2222222222222222,\"#7201a8\"],[0.3333333333333333,\"#9c179e\"],[0.4444444444444444,\"#bd3786\"],[0.5555555555555556,\"#d8576b\"],[0.6666666666666666,\"#ed7953\"],[0.7777777777777778,\"#fb9f3a\"],[0.8888888888888888,\"#fdca26\"],[1.0,\"#f0f921\"]],\"type\":\"surface\"}],\"table\":[{\"cells\":{\"fill\":{\"color\":\"#EBF0F8\"},\"line\":{\"color\":\"white\"}},\"header\":{\"fill\":{\"color\":\"#C8D4E3\"},\"line\":{\"color\":\"white\"}},\"type\":\"table\"}]},\"layout\":{\"annotationdefaults\":{\"arrowcolor\":\"#2a3f5f\",\"arrowhead\":0,\"arrowwidth\":1},\"autotypenumbers\":\"strict\",\"coloraxis\":{\"colorbar\":{\"outlinewidth\":0,\"ticks\":\"\"}},\"colorscale\":{\"diverging\":[[0,\"#8e0152\"],[0.1,\"#c51b7d\"],[0.2,\"#de77ae\"],[0.3,\"#f1b6da\"],[0.4,\"#fde0ef\"],[0.5,\"#f7f7f7\"],[0.6,\"#e6f5d0\"],[0.7,\"#b8e186\"],[0.8,\"#7fbc41\"],[0.9,\"#4d9221\"],[1,\"#276419\"]],\"sequential\":[[0.0,\"#0d0887\"],[0.1111111111111111,\"#46039f\"],[0.2222222222222222,\"#7201a8\"],[0.3333333333333333,\"#9c179e\"],[0.4444444444444444,\"#bd3786\"],[0.5555555555555556,\"#d8576b\"],[0.6666666666666666,\"#ed7953\"],[0.7777777777777778,\"#fb9f3a\"],[0.8888888888888888,\"#fdca26\"],[1.0,\"#f0f921\"]],\"sequentialminus\":[[0.0,\"#0d0887\"],[0.1111111111111111,\"#46039f\"],[0.2222222222222222,\"#7201a8\"],[0.3333333333333333,\"#9c179e\"],[0.4444444444444444,\"#bd3786\"],[0.5555555555555556,\"#d8576b\"],[0.6666666666666666,\"#ed7953\"],[0.7777777777777778,\"#fb9f3a\"],[0.8888888888888888,\"#fdca26\"],[1.0,\"#f0f921\"]]},\"colorway\":[\"#636efa\",\"#EF553B\",\"#00cc96\",\"#ab63fa\",\"#FFA15A\",\"#19d3f3\",\"#FF6692\",\"#B6E880\",\"#FF97FF\",\"#FECB52\"],\"font\":{\"color\":\"#2a3f5f\"},\"geo\":{\"bgcolor\":\"white\",\"lakecolor\":\"white\",\"landcolor\":\"#E5ECF6\",\"showlakes\":true,\"showland\":true,\"subunitcolor\":\"white\"},\"hoverlabel\":{\"align\":\"left\"},\"hovermode\":\"closest\",\"mapbox\":{\"style\":\"light\"},\"paper_bgcolor\":\"white\",\"plot_bgcolor\":\"#E5ECF6\",\"polar\":{\"angularaxis\":{\"gridcolor\":\"white\",\"linecolor\":\"white\",\"ticks\":\"\"},\"bgcolor\":\"#E5ECF6\",\"radialaxis\":{\"gridcolor\":\"white\",\"linecolor\":\"white\",\"ticks\":\"\"}},\"scene\":{\"xaxis\":{\"backgroundcolor\":\"#E5ECF6\",\"gridcolor\":\"white\",\"gridwidth\":2,\"linecolor\":\"white\",\"showbackground\":true,\"ticks\":\"\",\"zerolinecolor\":\"white\"},\"yaxis\":{\"backgroundcolor\":\"#E5ECF6\",\"gridcolor\":\"white\",\"gridwidth\":2,\"linecolor\":\"white\",\"showbackground\":true,\"ticks\":\"\",\"zerolinecolor\":\"white\"},\"zaxis\":{\"backgroundcolor\":\"#E5ECF6\",\"gridcolor\":\"white\",\"gridwidth\":2,\"linecolor\":\"white\",\"showbackground\":true,\"ticks\":\"\",\"zerolinecolor\":\"white\"}},\"shapedefaults\":{\"line\":{\"color\":\"#2a3f5f\"}},\"ternary\":{\"aaxis\":{\"gridcolor\":\"white\",\"linecolor\":\"white\",\"ticks\":\"\"},\"baxis\":{\"gridcolor\":\"white\",\"linecolor\":\"white\",\"ticks\":\"\"},\"bgcolor\":\"#E5ECF6\",\"caxis\":{\"gridcolor\":\"white\",\"linecolor\":\"white\",\"ticks\":\"\"}},\"title\":{\"x\":0.05},\"xaxis\":{\"automargin\":true,\"gridcolor\":\"white\",\"linecolor\":\"white\",\"ticks\":\"\",\"title\":{\"standoff\":15},\"zerolinecolor\":\"white\",\"zerolinewidth\":2},\"yaxis\":{\"automargin\":true,\"gridcolor\":\"white\",\"linecolor\":\"white\",\"ticks\":\"\",\"title\":{\"standoff\":15},\"zerolinecolor\":\"white\",\"zerolinewidth\":2}}},\"xaxis\":{\"anchor\":\"y\",\"domain\":[0.0,1.0],\"title\":{\"text\":\"time\"},\"range\":[\"2005-01-01\",\"2010-01-15\"]},\"yaxis\":{\"anchor\":\"x\",\"domain\":[0.0,1.0],\"title\":{\"text\":\"ranking\"}},\"legend\":{\"tracegroupgap\":0},\"margin\":{\"t\":60}},                        {\"responsive\": true}                    ).then(function(){\n",
       "                            \n",
       "var gd = document.getElementById('06736cfb-88a2-47f9-b59d-9fd3032a251a');\n",
       "var x = new MutationObserver(function (mutations, observer) {{\n",
       "        var display = window.getComputedStyle(gd).display;\n",
       "        if (!display || display === 'none') {{\n",
       "            console.log([gd, 'removed!']);\n",
       "            Plotly.purge(gd);\n",
       "            observer.disconnect();\n",
       "        }}\n",
       "}});\n",
       "\n",
       "// Listen for the removal of the full notebook cells\n",
       "var notebookContainer = gd.closest('#notebook-container');\n",
       "if (notebookContainer) {{\n",
       "    x.observe(notebookContainer, {childList: true});\n",
       "}}\n",
       "\n",
       "// Listen for the clearing of the current output cell\n",
       "var outputEl = gd.closest('.output');\n",
       "if (outputEl) {{\n",
       "    x.observe(outputEl, {childList: true});\n",
       "}}\n",
       "\n",
       "                        })                };                });            </script>        </div>"
      ]
     },
     "metadata": {},
     "output_type": "display_data"
    }
   ],
   "source": [
    "\n",
    "\n",
    "fig = px.line(filtered, x='time', y=\"ranking\",range_x=['2005-01-01', '2010-01-15'])\n",
    "fig.show()"
   ]
  },
  {
   "cell_type": "code",
   "execution_count": null,
   "id": "f06d4658",
   "metadata": {},
   "outputs": [],
   "source": []
  }
 ],
 "metadata": {
  "kernelspec": {
   "display_name": "Python 3 (ipykernel)",
   "language": "python",
   "name": "python3"
  },
  "language_info": {
   "codemirror_mode": {
    "name": "ipython",
    "version": 3
   },
   "file_extension": ".py",
   "mimetype": "text/x-python",
   "name": "python",
   "nbconvert_exporter": "python",
   "pygments_lexer": "ipython3",
   "version": "3.8.10"
  }
 },
 "nbformat": 4,
 "nbformat_minor": 5
}
